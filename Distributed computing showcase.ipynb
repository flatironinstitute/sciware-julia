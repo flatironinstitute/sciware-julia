{
 "cells": [
  {
   "cell_type": "code",
   "execution_count": null,
   "metadata": {},
   "outputs": [],
   "source": [
    "using Distributed, ClusterManagers"
   ]
  },
  {
   "cell_type": "code",
   "execution_count": null,
   "metadata": {},
   "outputs": [],
   "source": [
    "addprocs(SlurmManager(28), partition=\"gen\", t=\"00:10:00\") # ask for 28 CPUs in the gen partition for 10 minutes"
   ]
  },
  {
   "cell_type": "markdown",
   "metadata": {},
   "source": [
    "Run the UNIX command `hostname` on each worker Julia has spun up, so that we can see which node(s) we have acquired."
   ]
  },
  {
   "cell_type": "code",
   "execution_count": null,
   "metadata": {},
   "outputs": [],
   "source": [
    "@parallel for i=1:5\n",
    "    run(`hostname`)\n",
    "end"
   ]
  },
  {
   "cell_type": "markdown",
   "metadata": {},
   "source": [
    "Create some data which we will work on. For now, this data is only accessible on the driver worker - worker 0."
   ]
  },
  {
   "cell_type": "code",
   "execution_count": null,
   "metadata": {},
   "outputs": [],
   "source": [
    "m  = 3_000\n",
    "k  = 2_000\n",
    "n  = 1_000\n",
    "\n",
    "As = [rand(m, k) for i in 1:nworkers()]\n",
    "Bs = [rand(k, n) for i in 1:nworkers()]\n",
    "\n",
    "Cs = pmap((x,y)->x*y, As, Bs)"
   ]
  },
  {
   "cell_type": "markdown",
   "metadata": {},
   "source": [
    "That's a pretty simple example. But `pmap` can do more interesting things:"
   ]
  },
  {
   "cell_type": "code",
   "execution_count": null,
   "metadata": {},
   "outputs": [],
   "source": [
    "ms = rand(1_000:2_000, 2, div(nworkers(), 2))\n",
    "ks = rand(1_000:2_000, 2, div(nworkers(), 2))\n",
    "ns = rand(1_000:2_000, 2, div(nworkers(), 2))\n",
    "\n",
    "Cs = pmap((x, y, z) -> rand(x, y)*rand(y, z), ms, ks, ns)\n",
    "@show size(Cs)\n",
    "\n",
    "@show ms\n",
    "@show ns\n",
    "@show size.(Cs)"
   ]
  },
  {
   "cell_type": "markdown",
   "metadata": {},
   "source": [
    "Notice how `pmap` has retained the original layout of the inputs, so that the output corresponding to `m[1,2], k[1,2], n[1,2]` is placed in `Cs[1,2]`, no matter which worker it was computed on."
   ]
  },
  {
   "cell_type": "code",
   "execution_count": null,
   "metadata": {},
   "outputs": [],
   "source": []
  }
 ],
 "metadata": {
  "kernelspec": {
   "display_name": "Julia 1.5.0-DEV",
   "language": "julia",
   "name": "julia-1.5"
  },
  "language_info": {
   "file_extension": ".jl",
   "mimetype": "application/julia",
   "name": "julia",
   "version": "1.5.0"
  }
 },
 "nbformat": 4,
 "nbformat_minor": 2
}
