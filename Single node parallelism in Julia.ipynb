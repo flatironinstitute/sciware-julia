{
 "cells": [
  {
   "cell_type": "markdown",
   "metadata": {},
   "source": [
    "In this notebook, we'll look at SIMD and threading support in Julia"
   ]
  },
  {
   "cell_type": "code",
   "execution_count": 2,
   "metadata": {},
   "outputs": [
    {
     "data": {
      "text/plain": [
       "simdsum (generic function with 1 method)"
      ]
     },
     "execution_count": 2,
     "metadata": {},
     "output_type": "execute_result"
    }
   ],
   "source": [
    "A = rand(100_000)\n",
    "A32 = rand(Float32, length(A)*2)\n",
    "\n",
    "function simplesum(A)\n",
    "    result = zero(eltype(A))\n",
    "    for i in eachindex(A)\n",
    "        @inbounds result += A[i]\n",
    "    end\n",
    "    return result\n",
    "end\n",
    "\n",
    "function simdsum(A)\n",
    "    result = zero(eltype(A))\n",
    "    @simd for i in eachindex(A)\n",
    "        @inbounds result += A[i]\n",
    "    end\n",
    "    return result\n",
    "end"
   ]
  },
  {
   "cell_type": "code",
   "execution_count": 4,
   "metadata": {},
   "outputs": [
    {
     "name": "stderr",
     "output_type": "stream",
     "text": [
      "┌ Info: Precompiling BenchmarkTools [6e4b80f9-dd63-53aa-95a3-0cdb28fa8baf]\n",
      "└ @ Base loading.jl:1277\n"
     ]
    },
    {
     "name": "stdout",
     "output_type": "stream",
     "text": [
      "  13.041 μs (0 allocations: 0 bytes)\n",
      "  102.837 μs (0 allocations: 0 bytes)\n",
      "  12.718 μs (0 allocations: 0 bytes)\n",
      "  15.780 μs (0 allocations: 0 bytes)\n",
      "  205.634 μs (0 allocations: 0 bytes)\n",
      "  12.113 μs (0 allocations: 0 bytes)\n"
     ]
    },
    {
     "data": {
      "text/plain": [
       "99967.72f0"
      ]
     },
     "execution_count": 4,
     "metadata": {},
     "output_type": "execute_result"
    }
   ],
   "source": [
    "using BenchmarkTools\n",
    "\n",
    "@btime sum($A)\n",
    "@btime simplesum($A)\n",
    "@btime simdsum($A)\n",
    "\n",
    "@btime sum($A32)\n",
    "@btime simplesum($A32)\n",
    "@btime simdsum($A32)"
   ]
  },
  {
   "cell_type": "markdown",
   "metadata": {},
   "source": [
    "If `simdsum` is \"faster\", why not use it all the time?"
   ]
  },
  {
   "cell_type": "code",
   "execution_count": 5,
   "metadata": {},
   "outputs": [
    {
     "data": {
      "text/plain": [
       "(49911.125686407664, 49911.12568640862, 49911.12568640862)"
      ]
     },
     "execution_count": 5,
     "metadata": {},
     "output_type": "execute_result"
    }
   ],
   "source": [
    "simplesum(A), simdsum(A), sum(A)"
   ]
  },
  {
   "cell_type": "code",
   "execution_count": 6,
   "metadata": {},
   "outputs": [
    {
     "data": {
      "text/plain": [
       "(99967.89f0, 99967.72f0, 99967.75f0)"
      ]
     },
     "execution_count": 6,
     "metadata": {},
     "output_type": "execute_result"
    }
   ],
   "source": [
    "simplesum(A32), simdsum(A32), sum(A32)"
   ]
  },
  {
   "cell_type": "markdown",
   "metadata": {},
   "source": [
    "How can we see if `@simd` is making good use of our CPU cores? One way would be a profiler, but we can also look directly from Julia:"
   ]
  },
  {
   "cell_type": "code",
   "execution_count": 7,
   "metadata": {
    "scrolled": false
   },
   "outputs": [
    {
     "name": "stdout",
     "output_type": "stream",
     "text": [
      "\n",
      ";  @ In[2]:12 within `simdsum'\n",
      "define float @julia_simdsum_1618(%jl_value_t addrspace(10)* nonnull align 16 dereferenceable(40)) {\n",
      "top:\n",
      ";  @ In[2]:14 within `simdsum'\n",
      "; ┌ @ simdloop.jl:69 within `macro expansion'\n",
      "; │┌ @ abstractarray.jl:212 within `eachindex'\n",
      "; ││┌ @ abstractarray.jl:95 within `axes1'\n",
      "; │││┌ @ abstractarray.jl:75 within `axes'\n",
      "; ││││┌ @ array.jl:155 within `size'\n",
      "       %1 = addrspacecast %jl_value_t addrspace(10)* %0 to %jl_value_t addrspace(11)*\n",
      "       %2 = bitcast %jl_value_t addrspace(11)* %1 to %jl_value_t addrspace(10)* addrspace(11)*\n",
      "       %3 = getelementptr inbounds %jl_value_t addrspace(10)*, %jl_value_t addrspace(10)* addrspace(11)* %2, i64 3\n",
      "       %4 = bitcast %jl_value_t addrspace(10)* addrspace(11)* %3 to i64 addrspace(11)*\n",
      "       %5 = load i64, i64 addrspace(11)* %4, align 8\n",
      "; ││││└\n",
      "; ││││┌ @ tuple.jl:157 within `map'\n",
      "; │││││┌ @ range.jl:323 within `OneTo' @ range.jl:314\n",
      "; ││││││┌ @ promotion.jl:409 within `max'\n",
      "         %6 = icmp sgt i64 %5, 0\n",
      "         %7 = select i1 %6, i64 %5, i64 0\n",
      "; │└└└└└└\n",
      "; │ @ simdloop.jl:72 within `macro expansion'\n",
      "   br i1 %6, label %L13.lr.ph, label %L30\n",
      "\n",
      "L13.lr.ph:                                        ; preds = %top\n",
      "; │ @ simdloop.jl:77 within `macro expansion' @ In[2]:15\n",
      "; │┌ @ array.jl within `getindex'\n",
      "    %8 = bitcast %jl_value_t addrspace(11)* %1 to float addrspace(13)* addrspace(11)*\n",
      "    %9 = load float addrspace(13)*, float addrspace(13)* addrspace(11)* %8, align 8\n",
      "; │└\n",
      "; │ @ simdloop.jl:75 within `macro expansion'\n",
      "   %min.iters.check = icmp ult i64 %7, 32\n",
      "   br i1 %min.iters.check, label %scalar.ph, label %vector.ph\n",
      "\n",
      "vector.ph:                                        ; preds = %L13.lr.ph\n",
      "   %n.mod.vf = urem i64 %7, 32\n",
      "   %n.vec = sub i64 %7, %n.mod.vf\n",
      "   br label %vector.body\n",
      "\n",
      "vector.body:                                      ; preds = %vector.body, %vector.ph\n",
      "; │ @ simdloop.jl:78 within `macro expansion'\n",
      "; │┌ @ int.jl:86 within `+'\n",
      "    %index = phi i64 [ 0, %vector.ph ], [ %index.next, %vector.body ]\n",
      "    %vec.phi = phi <8 x float> [ zeroinitializer, %vector.ph ], [ %20, %vector.body ]\n",
      "    %vec.phi10 = phi <8 x float> [ zeroinitializer, %vector.ph ], [ %21, %vector.body ]\n",
      "    %vec.phi11 = phi <8 x float> [ zeroinitializer, %vector.ph ], [ %22, %vector.body ]\n",
      "    %vec.phi12 = phi <8 x float> [ zeroinitializer, %vector.ph ], [ %23, %vector.body ]\n",
      "    %10 = add i64 %index, 0\n",
      "; │└\n",
      "; │ @ simdloop.jl:77 within `macro expansion' @ In[2]:15\n",
      "; │┌ @ array.jl:787 within `getindex'\n",
      "    %11 = getelementptr inbounds float, float addrspace(13)* %9, i64 %10\n",
      "    %12 = getelementptr inbounds float, float addrspace(13)* %11, i32 0\n",
      "    %13 = bitcast float addrspace(13)* %12 to <8 x float> addrspace(13)*\n",
      "    %wide.load = load <8 x float>, <8 x float> addrspace(13)* %13, align 4\n",
      "    %14 = getelementptr inbounds float, float addrspace(13)* %11, i32 8\n",
      "    %15 = bitcast float addrspace(13)* %14 to <8 x float> addrspace(13)*\n",
      "    %wide.load13 = load <8 x float>, <8 x float> addrspace(13)* %15, align 4\n",
      "    %16 = getelementptr inbounds float, float addrspace(13)* %11, i32 16\n",
      "    %17 = bitcast float addrspace(13)* %16 to <8 x float> addrspace(13)*\n",
      "    %wide.load14 = load <8 x float>, <8 x float> addrspace(13)* %17, align 4\n",
      "    %18 = getelementptr inbounds float, float addrspace(13)* %11, i32 24\n",
      "    %19 = bitcast float addrspace(13)* %18 to <8 x float> addrspace(13)*\n",
      "    %wide.load15 = load <8 x float>, <8 x float> addrspace(13)* %19, align 4\n",
      "; │└\n",
      "; │┌ @ float.jl:400 within `+'\n",
      "    %20 = fadd fast <8 x float> %vec.phi, %wide.load\n",
      "    %21 = fadd fast <8 x float> %vec.phi10, %wide.load13\n",
      "    %22 = fadd fast <8 x float> %vec.phi11, %wide.load14\n",
      "    %23 = fadd fast <8 x float> %vec.phi12, %wide.load15\n",
      "; │└\n",
      "; │ @ simdloop.jl:78 within `macro expansion'\n",
      "; │┌ @ int.jl:86 within `+'\n",
      "    %index.next = add i64 %index, 32\n",
      "    %24 = icmp eq i64 %index.next, %n.vec\n",
      "    br i1 %24, label %middle.block, label %vector.body\n",
      "\n",
      "middle.block:                                     ; preds = %vector.body\n",
      "; │└\n",
      "; │ @ simdloop.jl:75 within `macro expansion'\n",
      "   %bin.rdx = fadd fast <8 x float> %21, %20\n",
      "   %bin.rdx16 = fadd fast <8 x float> %22, %bin.rdx\n",
      "   %bin.rdx17 = fadd fast <8 x float> %23, %bin.rdx16\n",
      "   %rdx.shuf = shufflevector <8 x float> %bin.rdx17, <8 x float> undef, <8 x i32> <i32 4, i32 5, i32 6, i32 7, i32 undef, i32 undef, i32 undef, i32 undef>\n",
      "   %bin.rdx18 = fadd fast <8 x float> %bin.rdx17, %rdx.shuf\n",
      "   %rdx.shuf19 = shufflevector <8 x float> %bin.rdx18, <8 x float> undef, <8 x i32> <i32 2, i32 3, i32 undef, i32 undef, i32 undef, i32 undef, i32 undef, i32 undef>\n",
      "   %bin.rdx20 = fadd fast <8 x float> %bin.rdx18, %rdx.shuf19\n",
      "   %rdx.shuf21 = shufflevector <8 x float> %bin.rdx20, <8 x float> undef, <8 x i32> <i32 1, i32 undef, i32 undef, i32 undef, i32 undef, i32 undef, i32 undef, i32 undef>\n",
      "   %bin.rdx22 = fadd fast <8 x float> %bin.rdx20, %rdx.shuf21\n",
      "   %25 = extractelement <8 x float> %bin.rdx22, i32 0\n",
      "   %cmp.n = icmp eq i64 %7, %n.vec\n",
      "   br i1 %cmp.n, label %L30, label %scalar.ph\n",
      "\n",
      "scalar.ph:                                        ; preds = %middle.block, %L13.lr.ph\n",
      "   %bc.resume.val = phi i64 [ %n.vec, %middle.block ], [ 0, %L13.lr.ph ]\n",
      "   %bc.merge.rdx = phi float [ 0.000000e+00, %L13.lr.ph ], [ %25, %middle.block ]\n",
      "   br label %L13\n",
      "\n",
      "L13:                                              ; preds = %scalar.ph, %L13\n",
      "   %value_phi16 = phi i64 [ %bc.resume.val, %scalar.ph ], [ %29, %L13 ]\n",
      "   %value_phi5 = phi float [ %bc.merge.rdx, %scalar.ph ], [ %28, %L13 ]\n",
      "; │ @ simdloop.jl:77 within `macro expansion' @ In[2]:15\n",
      "; │┌ @ array.jl:787 within `getindex'\n",
      "    %26 = getelementptr inbounds float, float addrspace(13)* %9, i64 %value_phi16\n",
      "    %27 = load float, float addrspace(13)* %26, align 4\n",
      "; │└\n",
      "; │┌ @ float.jl:400 within `+'\n",
      "    %28 = fadd fast float %value_phi5, %27\n",
      "; │└\n",
      "; │ @ simdloop.jl:78 within `macro expansion'\n",
      "; │┌ @ int.jl:86 within `+'\n",
      "    %29 = add nuw nsw i64 %value_phi16, 1\n",
      "; │└\n",
      "; │ @ simdloop.jl:75 within `macro expansion'\n",
      "; │┌ @ int.jl:82 within `<'\n",
      "    %30 = icmp ult i64 %29, %7\n",
      "; │└\n",
      "   br i1 %30, label %L13, label %L30\n",
      "\n",
      "L30:                                              ; preds = %middle.block, %L13, %top\n",
      "   %value_phi2 = phi float [ 0.000000e+00, %top ], [ %25, %middle.block ], [ %28, %L13 ]\n",
      "; └\n",
      ";  @ In[2]:17 within `simdsum'\n",
      "  ret float %value_phi2\n",
      "}\n"
     ]
    }
   ],
   "source": [
    "@code_llvm simdsum(A32)"
   ]
  },
  {
   "cell_type": "code",
   "execution_count": 8,
   "metadata": {},
   "outputs": [
    {
     "name": "stdout",
     "output_type": "stream",
     "text": [
      "\n",
      ";  @ In[2]:4 within `simplesum'\n",
      "define float @julia_simplesum_1623(%jl_value_t addrspace(10)* nonnull align 16 dereferenceable(40)) {\n",
      "top:\n",
      ";  @ In[2]:6 within `simplesum'\n",
      "; ┌ @ abstractarray.jl:212 within `eachindex'\n",
      "; │┌ @ abstractarray.jl:95 within `axes1'\n",
      "; ││┌ @ abstractarray.jl:75 within `axes'\n",
      "; │││┌ @ array.jl:155 within `size'\n",
      "      %1 = addrspacecast %jl_value_t addrspace(10)* %0 to %jl_value_t addrspace(11)*\n",
      "      %2 = bitcast %jl_value_t addrspace(11)* %1 to %jl_value_t addrspace(10)* addrspace(11)*\n",
      "      %3 = getelementptr inbounds %jl_value_t addrspace(10)*, %jl_value_t addrspace(10)* addrspace(11)* %2, i64 3\n",
      "      %4 = bitcast %jl_value_t addrspace(10)* addrspace(11)* %3 to i64 addrspace(11)*\n",
      "      %5 = load i64, i64 addrspace(11)* %4, align 8\n",
      "; │││└\n",
      "; │││┌ @ tuple.jl:157 within `map'\n",
      "; ││││┌ @ range.jl:323 within `OneTo' @ range.jl:314\n",
      "; │││││┌ @ promotion.jl:409 within `max'\n",
      "        %6 = icmp sgt i64 %5, 0\n",
      "        %7 = select i1 %6, i64 %5, i64 0\n",
      "; └└└└└└\n",
      "  br i1 %6, label %L13.preheader, label %L29\n",
      "\n",
      "L13.preheader:                                    ; preds = %top\n",
      ";  @ In[2]:7 within `simplesum'\n",
      "; ┌ @ array.jl within `getindex'\n",
      "   %8 = bitcast %jl_value_t addrspace(11)* %1 to float addrspace(13)* addrspace(11)*\n",
      "   %9 = load float addrspace(13)*, float addrspace(13)* addrspace(11)* %8, align 8\n",
      "; └\n",
      "  br label %L13\n",
      "\n",
      "L13:                                              ; preds = %L13.preheader, %L13\n",
      "  %value_phi3 = phi float [ %13, %L13 ], [ 0.000000e+00, %L13.preheader ]\n",
      "  %value_phi4 = phi i64 [ %15, %L13 ], [ 1, %L13.preheader ]\n",
      "; ┌ @ array.jl:787 within `getindex'\n",
      "   %10 = add nsw i64 %value_phi4, -1\n",
      "   %11 = getelementptr inbounds float, float addrspace(13)* %9, i64 %10\n",
      "   %12 = load float, float addrspace(13)* %11, align 4\n",
      "; └\n",
      "; ┌ @ float.jl:400 within `+'\n",
      "   %13 = fadd float %value_phi3, %12\n",
      "; └\n",
      "; ┌ @ range.jl:621 within `iterate'\n",
      "; │┌ @ promotion.jl:398 within `=='\n",
      "    %14 = icmp eq i64 %value_phi4, %7\n",
      "; │└\n",
      "   %15 = add nuw i64 %value_phi4, 1\n",
      "; └\n",
      "  br i1 %14, label %L29, label %L13\n",
      "\n",
      "L29:                                              ; preds = %L13, %top\n",
      "  %value_phi9 = phi float [ 0.000000e+00, %top ], [ %13, %L13 ]\n",
      ";  @ In[2]:9 within `simplesum'\n",
      "  ret float %value_phi9\n",
      "}\n"
     ]
    }
   ],
   "source": [
    "@code_llvm simplesum(A32)"
   ]
  },
  {
   "cell_type": "markdown",
   "metadata": {},
   "source": [
    "We can also use threading in other ways. Julia can control the number of threads available to BLAS, or use threads ourselves!"
   ]
  },
  {
   "cell_type": "code",
   "execution_count": 9,
   "metadata": {},
   "outputs": [
    {
     "name": "stdout",
     "output_type": "stream",
     "text": [
      "  4.293 s (2 allocations: 381.47 MiB)\n",
      "  1.783 s (2 allocations: 381.47 MiB)\n"
     ]
    },
    {
     "data": {
      "text/plain": [
       "10000×5000 Array{Float64,2}:\n",
       " 503.971  494.632  486.423  512.715  …  495.348  494.287  490.079  495.776\n",
       " 513.881  502.39   503.271  522.839     510.434  504.631  506.406  515.5\n",
       " 516.066  502.328  504.748  515.33      508.983  505.34   504.395  513.875\n",
       " 519.404  500.062  500.221  519.434     497.87   500.677  508.285  507.121\n",
       " 508.663  495.219  490.846  516.207     495.062  491.511  497.319  507.443\n",
       " 501.579  493.947  494.614  514.469  …  493.693  494.486  496.239  503.289\n",
       " 497.671  491.556  486.265  509.046     493.358  490.073  492.431  503.061\n",
       " 522.154  511.882  512.418  528.928     515.718  517.301  520.164  528.079\n",
       " 503.844  496.853  493.93   514.278     493.035  495.016  493.673  499.037\n",
       " 502.743  503.565  498.381  519.618     506.189  498.569  501.422  519.208\n",
       " 506.564  495.665  498.885  516.443  …  505.6    503.638  506.618  514.4\n",
       " 517.268  501.23   503.828  520.15      504.584  502.572  503.956  514.325\n",
       " 509.655  504.053  496.453  517.45      501.475  498.986  502.946  510.81\n",
       "   ⋮                                 ⋱                             \n",
       " 504.429  502.923  485.618  513.688     504.028  502.812  505.478  513.34\n",
       " 507.137  500.676  498.064  513.833     508.209  507.053  508.364  517.474\n",
       " 507.806  516.902  496.758  523.587  …  506.131  499.685  504.374  515.539\n",
       " 513.869  497.292  499.78   521.332     499.324  504.86   503.09   513.662\n",
       " 519.198  518.311  505.601  529.917     512.459  513.707  510.492  520.849\n",
       " 506.73   503.545  496.056  518.65      511.727  507.81   498.915  509.488\n",
       " 499.188  487.082  488.348  501.03      489.739  490.205  497.381  504.052\n",
       " 500.954  498.307  497.834  512.311  …  506.811  499.625  503.678  513.378\n",
       " 516.347  508.106  502.442  525.474     514.472  513.412  511.609  519.93\n",
       " 500.709  499.666  499.67   512.644     501.023  500.497  499.713  506.901\n",
       " 508.958  505.52   500.003  520.844     499.924  508.043  500.998  509.707\n",
       " 507.686  501.101  493.971  509.434     497.006  491.581  497.089  508.525"
      ]
     },
     "execution_count": 9,
     "metadata": {},
     "output_type": "execute_result"
    }
   ],
   "source": [
    "using LinearAlgebra\n",
    "\n",
    "A = rand(10_000, 2_000)\n",
    "B = rand(2_000, 5_000)\n",
    "\n",
    "BLAS.set_num_threads(1)\n",
    "@btime $A*$B\n",
    "BLAS.set_num_threads(4)\n",
    "@btime $A*$B\n",
    "# can set the number of threads even higher, of course. You can also use the environment variable "
   ]
  },
  {
   "cell_type": "markdown",
   "metadata": {},
   "source": [
    "But that's kind of boring... let's have some fun with threads ourselves."
   ]
  },
  {
   "cell_type": "code",
   "execution_count": 13,
   "metadata": {},
   "outputs": [
    {
     "data": {
      "text/plain": [
       "1"
      ]
     },
     "execution_count": 13,
     "metadata": {},
     "output_type": "execute_result"
    }
   ],
   "source": [
    "using .Threads\n",
    "nthreads()"
   ]
  },
  {
   "cell_type": "code",
   "execution_count": null,
   "metadata": {},
   "outputs": [],
   "source": [
    "# a regular loop doesn't use threads by default\n",
    "A = zeros(Int, nthreads())\n",
    "for i in 1:nthreads()\n",
    "    A[i] = threadid()\n",
    "end\n",
    "A"
   ]
  },
  {
   "cell_type": "code",
   "execution_count": null,
   "metadata": {},
   "outputs": [],
   "source": [
    "# we need to use the @threads macro\n",
    "A = zeros(Int, nthreads())\n",
    "@threads for i in 1:nthreads()\n",
    "    A[i] = threadid()\n",
    "end\n",
    "A"
   ]
  },
  {
   "cell_type": "code",
   "execution_count": null,
   "metadata": {},
   "outputs": [],
   "source": [
    "function threaded_sum1(A)\n",
    "    r = zero(eltype(A))\n",
    "    @threads for i in eachindex(A)\n",
    "        @inbounds r += A[i]\n",
    "    end\n",
    "    return r\n",
    "end\n",
    "\n",
    "A = rand(100_000)\n",
    "@btime sum($A)\n",
    "@btime threaded_sum1($A)\n",
    "sum(A), threaded_sum1(A)"
   ]
  },
  {
   "cell_type": "code",
   "execution_count": null,
   "metadata": {},
   "outputs": [],
   "source": [
    "function threaded_sum2(A)\n",
    "    r = Atomic{eltype(A)}(zero(eltype(A)))\n",
    "    @threads for i in eachindex(A)\n",
    "        @inbounds atomic_add!(r, A[i])\n",
    "    end\n",
    "    return r[]\n",
    "end\n",
    "@btime sum($A)\n",
    "@btime threaded_sum2($A)\n",
    "sum(A), threaded_sum2(A)"
   ]
  },
  {
   "cell_type": "code",
   "execution_count": null,
   "metadata": {},
   "outputs": [],
   "source": [
    "function threaded_sum3(A)\n",
    "    R = zeros(eltype(A), nthreads())\n",
    "    @threads for i in eachindex(A)\n",
    "        @inbounds R[threadid()] += A[i]\n",
    "    end\n",
    "    r = zero(eltype(A))\n",
    "    # sum the partial results from each thread\n",
    "    for i in eachindex(R)\n",
    "        @inbounds r += R[i]\n",
    "    end\n",
    "    return r\n",
    "end\n",
    "\n",
    "threaded_sum3(A)\n",
    "@time threaded_sum3(A)"
   ]
  }
 ],
 "metadata": {
  "kernelspec": {
   "display_name": "Julia 1.5.0-DEV",
   "language": "julia",
   "name": "julia-1.5"
  },
  "language_info": {
   "file_extension": ".jl",
   "mimetype": "application/julia",
   "name": "julia",
   "version": "1.5.0"
  }
 },
 "nbformat": 4,
 "nbformat_minor": 2
}
