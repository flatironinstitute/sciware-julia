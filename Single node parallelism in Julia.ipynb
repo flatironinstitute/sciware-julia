{
 "cells": [
  {
   "cell_type": "code",
   "execution_count": 1,
   "metadata": {},
   "outputs": [
    {
     "name": "stderr",
     "output_type": "stream",
     "text": [
      "\u001b[32m\u001b[1m Activating\u001b[22m\u001b[39m environment at `~/projects/sciware-julia/Project.toml`\n"
     ]
    }
   ],
   "source": [
    "import Pkg; Pkg.activate(@__DIR__); Pkg.instantiate()"
   ]
  },
  {
   "cell_type": "markdown",
   "metadata": {},
   "source": [
    "In this notebook, we'll look at SIMD and threading support in Julia"
   ]
  },
  {
   "cell_type": "code",
   "execution_count": 2,
   "metadata": {},
   "outputs": [
    {
     "data": {
      "text/plain": [
       "simdsum (generic function with 1 method)"
      ]
     },
     "execution_count": 2,
     "metadata": {},
     "output_type": "execute_result"
    }
   ],
   "source": [
    "A = rand(100_000)\n",
    "A32 = rand(Float32, length(A)*2)\n",
    "\n",
    "function simplesum(A)\n",
    "    result = zero(eltype(A))\n",
    "    for i in eachindex(A)\n",
    "        @inbounds result += A[i]\n",
    "    end\n",
    "    return result\n",
    "end\n",
    "\n",
    "function simdsum(A)\n",
    "    result = zero(eltype(A))\n",
    "    @simd for i in eachindex(A)\n",
    "        @inbounds result += A[i]\n",
    "    end\n",
    "    return result\n",
    "end"
   ]
  },
  {
   "cell_type": "code",
   "execution_count": 3,
   "metadata": {},
   "outputs": [
    {
     "name": "stdout",
     "output_type": "stream",
     "text": [
      "  24.361 μs (0 allocations: 0 bytes)\n",
      "  103.761 μs (0 allocations: 0 bytes)\n",
      "  23.408 μs (0 allocations: 0 bytes)\n",
      "  25.305 μs (0 allocations: 0 bytes)\n",
      "  207.445 μs (0 allocations: 0 bytes)\n",
      "  23.396 μs (0 allocations: 0 bytes)\n"
     ]
    },
    {
     "data": {
      "text/plain": [
       "100005.75f0"
      ]
     },
     "execution_count": 3,
     "metadata": {},
     "output_type": "execute_result"
    }
   ],
   "source": [
    "using BenchmarkTools\n",
    "\n",
    "@btime sum($A)\n",
    "@btime simplesum($A)\n",
    "@btime simdsum($A)\n",
    "\n",
    "@btime sum($A32)\n",
    "@btime simplesum($A32)\n",
    "@btime simdsum($A32)"
   ]
  },
  {
   "cell_type": "markdown",
   "metadata": {},
   "source": [
    "If `simdsum` is \"faster\", why not use it all the time?"
   ]
  },
  {
   "cell_type": "code",
   "execution_count": 4,
   "metadata": {},
   "outputs": [
    {
     "data": {
      "text/plain": [
       "(49993.1422985405, 49993.14229853963, 49993.142298539664)"
      ]
     },
     "execution_count": 4,
     "metadata": {},
     "output_type": "execute_result"
    }
   ],
   "source": [
    "simplesum(A), simdsum(A), sum(A)"
   ]
  },
  {
   "cell_type": "code",
   "execution_count": 5,
   "metadata": {},
   "outputs": [
    {
     "data": {
      "text/plain": [
       "(100005.9f0, 100005.75f0, 100005.734f0)"
      ]
     },
     "execution_count": 5,
     "metadata": {},
     "output_type": "execute_result"
    }
   ],
   "source": [
    "simplesum(A32), simdsum(A32), sum(A32)"
   ]
  },
  {
   "cell_type": "markdown",
   "metadata": {},
   "source": [
    "How can we see if `@simd` is making good use of our CPU cores? One way would be a profiler, but we can also look directly from Julia:"
   ]
  },
  {
   "cell_type": "code",
   "execution_count": 6,
   "metadata": {},
   "outputs": [
    {
     "name": "stdout",
     "output_type": "stream",
     "text": [
      "\n",
      ";  @ In[2]:13 within `simdsum'\n",
      "define float @julia_simdsum_18007(%jl_value_t addrspace(10)* nonnull align 16 dereferenceable(40)) {\n",
      "top:\n",
      ";  @ In[2]:14 within `simdsum'\n",
      "; ┌ @ simdloop.jl:69 within `macro expansion'\n",
      "; │┌ @ abstractarray.jl:212 within `eachindex'\n",
      "; ││┌ @ abstractarray.jl:95 within `axes1'\n",
      "; │││┌ @ abstractarray.jl:75 within `axes'\n",
      "; ││││┌ @ array.jl:155 within `size'\n",
      "       %1 = addrspacecast %jl_value_t addrspace(10)* %0 to %jl_value_t addrspace(11)*\n",
      "       %2 = bitcast %jl_value_t addrspace(11)* %1 to %jl_value_t addrspace(10)* addrspace(11)*\n",
      "       %3 = getelementptr inbounds %jl_value_t addrspace(10)*, %jl_value_t addrspace(10)* addrspace(11)* %2, i64 3\n",
      "       %4 = bitcast %jl_value_t addrspace(10)* addrspace(11)* %3 to i64 addrspace(11)*\n",
      "       %5 = load i64, i64 addrspace(11)* %4, align 8\n",
      "; ││││└\n",
      "; ││││┌ @ tuple.jl:157 within `map'\n",
      "; │││││┌ @ range.jl:320 within `OneTo' @ range.jl:311\n",
      "; ││││││┌ @ promotion.jl:409 within `max'\n",
      "         %6 = icmp sgt i64 %5, 0\n",
      "         %7 = select i1 %6, i64 %5, i64 0\n",
      "; │└└└└└└\n",
      "; │ @ simdloop.jl:72 within `macro expansion'\n",
      "   br i1 %6, label %L13.lr.ph, label %L30\n",
      "\n",
      "L13.lr.ph:                                        ; preds = %top\n",
      "   %8 = bitcast %jl_value_t addrspace(11)* %1 to float addrspace(13)* addrspace(11)*\n",
      "   %9 = load float addrspace(13)*, float addrspace(13)* addrspace(11)* %8, align 8\n",
      "; │ @ simdloop.jl:75 within `macro expansion'\n",
      "   %min.iters.check = icmp ult i64 %7, 32\n",
      "   br i1 %min.iters.check, label %scalar.ph, label %vector.ph\n",
      "\n",
      "vector.ph:                                        ; preds = %L13.lr.ph\n",
      "   %n.vec = and i64 %7, 9223372036854775776\n",
      "   br label %vector.body\n",
      "\n",
      "vector.body:                                      ; preds = %vector.body, %vector.ph\n",
      "; │ @ simdloop.jl:78 within `macro expansion'\n",
      "; │┌ @ int.jl:53 within `+'\n",
      "    %index = phi i64 [ 0, %vector.ph ], [ %index.next, %vector.body ]\n",
      "    %vec.phi = phi <8 x float> [ zeroinitializer, %vector.ph ], [ %18, %vector.body ]\n",
      "    %vec.phi10 = phi <8 x float> [ zeroinitializer, %vector.ph ], [ %19, %vector.body ]\n",
      "    %vec.phi11 = phi <8 x float> [ zeroinitializer, %vector.ph ], [ %20, %vector.body ]\n",
      "    %vec.phi12 = phi <8 x float> [ zeroinitializer, %vector.ph ], [ %21, %vector.body ]\n",
      "; │└\n",
      "; │ @ simdloop.jl:77 within `macro expansion' @ In[2]:15\n",
      "; │┌ @ array.jl:787 within `getindex'\n",
      "    %10 = getelementptr inbounds float, float addrspace(13)* %9, i64 %index\n",
      "    %11 = bitcast float addrspace(13)* %10 to <8 x float> addrspace(13)*\n",
      "    %wide.load = load <8 x float>, <8 x float> addrspace(13)* %11, align 4\n",
      "    %12 = getelementptr inbounds float, float addrspace(13)* %10, i64 8\n",
      "    %13 = bitcast float addrspace(13)* %12 to <8 x float> addrspace(13)*\n",
      "    %wide.load13 = load <8 x float>, <8 x float> addrspace(13)* %13, align 4\n",
      "    %14 = getelementptr inbounds float, float addrspace(13)* %10, i64 16\n",
      "    %15 = bitcast float addrspace(13)* %14 to <8 x float> addrspace(13)*\n",
      "    %wide.load14 = load <8 x float>, <8 x float> addrspace(13)* %15, align 4\n",
      "    %16 = getelementptr inbounds float, float addrspace(13)* %10, i64 24\n",
      "    %17 = bitcast float addrspace(13)* %16 to <8 x float> addrspace(13)*\n",
      "    %wide.load15 = load <8 x float>, <8 x float> addrspace(13)* %17, align 4\n",
      "; │└\n",
      "; │┌ @ float.jl:400 within `+'\n",
      "    %18 = fadd fast <8 x float> %vec.phi, %wide.load\n",
      "    %19 = fadd fast <8 x float> %vec.phi10, %wide.load13\n",
      "    %20 = fadd fast <8 x float> %vec.phi11, %wide.load14\n",
      "    %21 = fadd fast <8 x float> %vec.phi12, %wide.load15\n",
      "; │└\n",
      "; │ @ simdloop.jl:78 within `macro expansion'\n",
      "; │┌ @ int.jl:53 within `+'\n",
      "    %index.next = add i64 %index, 32\n",
      "    %22 = icmp eq i64 %index.next, %n.vec\n",
      "    br i1 %22, label %middle.block, label %vector.body\n",
      "\n",
      "middle.block:                                     ; preds = %vector.body\n",
      "; │└\n",
      "; │ @ simdloop.jl:77 within `macro expansion' @ In[2]:15\n",
      "; │┌ @ float.jl:400 within `+'\n",
      "    %bin.rdx = fadd fast <8 x float> %19, %18\n",
      "    %bin.rdx16 = fadd fast <8 x float> %20, %bin.rdx\n",
      "    %bin.rdx17 = fadd fast <8 x float> %21, %bin.rdx16\n",
      "    %rdx.shuf = shufflevector <8 x float> %bin.rdx17, <8 x float> undef, <8 x i32> <i32 4, i32 5, i32 6, i32 7, i32 undef, i32 undef, i32 undef, i32 undef>\n",
      "    %bin.rdx18 = fadd fast <8 x float> %bin.rdx17, %rdx.shuf\n",
      "    %rdx.shuf19 = shufflevector <8 x float> %bin.rdx18, <8 x float> undef, <8 x i32> <i32 2, i32 3, i32 undef, i32 undef, i32 undef, i32 undef, i32 undef, i32 undef>\n",
      "    %bin.rdx20 = fadd fast <8 x float> %bin.rdx18, %rdx.shuf19\n",
      "    %rdx.shuf21 = shufflevector <8 x float> %bin.rdx20, <8 x float> undef, <8 x i32> <i32 1, i32 undef, i32 undef, i32 undef, i32 undef, i32 undef, i32 undef, i32 undef>\n",
      "    %bin.rdx22 = fadd fast <8 x float> %bin.rdx20, %rdx.shuf21\n",
      "    %23 = extractelement <8 x float> %bin.rdx22, i32 0\n",
      "    %cmp.n = icmp eq i64 %7, %n.vec\n",
      "; │└\n",
      "; │ @ simdloop.jl:75 within `macro expansion'\n",
      "   br i1 %cmp.n, label %L30, label %scalar.ph\n",
      "\n",
      "scalar.ph:                                        ; preds = %middle.block, %L13.lr.ph\n",
      "   %bc.resume.val = phi i64 [ %n.vec, %middle.block ], [ 0, %L13.lr.ph ]\n",
      "   %bc.merge.rdx = phi float [ %23, %middle.block ], [ 0.000000e+00, %L13.lr.ph ]\n",
      "   br label %L13\n",
      "\n",
      "L13:                                              ; preds = %scalar.ph, %L13\n",
      "   %value_phi16 = phi i64 [ %bc.resume.val, %scalar.ph ], [ %27, %L13 ]\n",
      "   %value_phi5 = phi float [ %bc.merge.rdx, %scalar.ph ], [ %26, %L13 ]\n",
      "; │ @ simdloop.jl:77 within `macro expansion' @ In[2]:15\n",
      "; │┌ @ array.jl:787 within `getindex'\n",
      "    %24 = getelementptr inbounds float, float addrspace(13)* %9, i64 %value_phi16\n",
      "    %25 = load float, float addrspace(13)* %24, align 4\n",
      "; │└\n",
      "; │┌ @ float.jl:400 within `+'\n",
      "    %26 = fadd fast float %value_phi5, %25\n",
      "; │└\n",
      "; │ @ simdloop.jl:78 within `macro expansion'\n",
      "; │┌ @ int.jl:53 within `+'\n",
      "    %27 = add nuw nsw i64 %value_phi16, 1\n",
      "; │└\n",
      "; │ @ simdloop.jl:75 within `macro expansion'\n",
      "; │┌ @ int.jl:49 within `<'\n",
      "    %28 = icmp ult i64 %27, %7\n",
      "; │└\n",
      "   br i1 %28, label %L13, label %L30\n",
      "\n",
      "L30:                                              ; preds = %L13, %middle.block, %top\n",
      "   %value_phi2 = phi float [ 0.000000e+00, %top ], [ %26, %L13 ], [ %23, %middle.block ]\n",
      "; └\n",
      ";  @ In[2]:17 within `simdsum'\n",
      "  ret float %value_phi2\n",
      "}\n"
     ]
    }
   ],
   "source": [
    "@code_llvm simdsum(A32)"
   ]
  },
  {
   "cell_type": "code",
   "execution_count": 7,
   "metadata": {},
   "outputs": [
    {
     "name": "stdout",
     "output_type": "stream",
     "text": [
      "\n",
      ";  @ In[2]:5 within `simplesum'\n",
      "define float @julia_simplesum_18006(%jl_value_t addrspace(10)* nonnull align 16 dereferenceable(40)) {\n",
      "top:\n",
      ";  @ In[2]:6 within `simplesum'\n",
      "; ┌ @ abstractarray.jl:212 within `eachindex'\n",
      "; │┌ @ abstractarray.jl:95 within `axes1'\n",
      "; ││┌ @ abstractarray.jl:75 within `axes'\n",
      "; │││┌ @ array.jl:155 within `size'\n",
      "      %1 = addrspacecast %jl_value_t addrspace(10)* %0 to %jl_value_t addrspace(11)*\n",
      "      %2 = bitcast %jl_value_t addrspace(11)* %1 to %jl_value_t addrspace(10)* addrspace(11)*\n",
      "      %3 = getelementptr inbounds %jl_value_t addrspace(10)*, %jl_value_t addrspace(10)* addrspace(11)* %2, i64 3\n",
      "      %4 = bitcast %jl_value_t addrspace(10)* addrspace(11)* %3 to i64 addrspace(11)*\n",
      "      %5 = load i64, i64 addrspace(11)* %4, align 8\n",
      "; │││└\n",
      "; │││┌ @ tuple.jl:157 within `map'\n",
      "; ││││┌ @ range.jl:320 within `OneTo' @ range.jl:311\n",
      "; │││││┌ @ promotion.jl:409 within `max'\n",
      "        %6 = icmp sgt i64 %5, 0\n",
      "        %7 = select i1 %6, i64 %5, i64 0\n",
      "; └└└└└└\n",
      "  br i1 %6, label %L13.preheader, label %L29\n",
      "\n",
      "L13.preheader:                                    ; preds = %top\n",
      "  %8 = bitcast %jl_value_t addrspace(11)* %1 to float addrspace(13)* addrspace(11)*\n",
      "  %9 = load float addrspace(13)*, float addrspace(13)* addrspace(11)* %8, align 8\n",
      ";  @ In[2]:7 within `simplesum'\n",
      "; ┌ @ array.jl:787 within `getindex'\n",
      "   br label %L13\n",
      "\n",
      "L13:                                              ; preds = %L13.preheader, %L13\n",
      "   %value_phi3 = phi float [ %13, %L13 ], [ 0.000000e+00, %L13.preheader ]\n",
      "   %value_phi4 = phi i64 [ %15, %L13 ], [ 1, %L13.preheader ]\n",
      "   %10 = add nsw i64 %value_phi4, -1\n",
      "   %11 = getelementptr inbounds float, float addrspace(13)* %9, i64 %10\n",
      "   %12 = load float, float addrspace(13)* %11, align 4\n",
      "; └\n",
      "; ┌ @ float.jl:400 within `+'\n",
      "   %13 = fadd float %value_phi3, %12\n",
      "; └\n",
      "; ┌ @ range.jl:597 within `iterate'\n",
      "; │┌ @ promotion.jl:398 within `=='\n",
      "    %14 = icmp eq i64 %value_phi4, %7\n",
      "; │└\n",
      "   %15 = add nuw i64 %value_phi4, 1\n",
      "; └\n",
      "  br i1 %14, label %L29, label %L13\n",
      "\n",
      "L29:                                              ; preds = %L13, %top\n",
      "  %value_phi9 = phi float [ 0.000000e+00, %top ], [ %13, %L13 ]\n",
      ";  @ In[2]:9 within `simplesum'\n",
      "  ret float %value_phi9\n",
      "}\n"
     ]
    }
   ],
   "source": [
    "@code_llvm simplesum(A32)"
   ]
  },
  {
   "cell_type": "markdown",
   "metadata": {},
   "source": [
    "We can also use threading in other ways. Julia can control the number of threads available to BLAS, or use threads ourselves!"
   ]
  },
  {
   "cell_type": "code",
   "execution_count": 8,
   "metadata": {},
   "outputs": [
    {
     "name": "stdout",
     "output_type": "stream",
     "text": [
      "  6.601 s (2 allocations: 381.47 MiB)\n",
      "  6.683 s (2 allocations: 381.47 MiB)\n"
     ]
    },
    {
     "data": {
      "text/plain": [
       "10000×5000 Array{Float64,2}:\n",
       " 497.448  498.026  501.672  500.861  …  498.099  507.642  504.022  499.956\n",
       " 496.237  502.958  495.704  499.077     501.392  508.053  508.013  507.704\n",
       " 499.26   504.947  500.042  503.678     500.23   509.411  516.929  499.546\n",
       " 495.878  488.105  501.375  498.34      497.019  507.706  508.838  504.539\n",
       " 482.359  491.169  486.223  500.083     483.32   507.865  503.426  497.928\n",
       " 485.812  491.639  488.498  497.64   …  488.161  503.603  493.172  488.898\n",
       " 498.015  501.214  493.245  502.747     492.809  511.176  507.424  495.032\n",
       " 488.426  487.061  491.559  506.458     495.321  507.32   501.842  490.934\n",
       " 496.852  500.111  495.713  506.139     499.837  512.365  506.775  509.127\n",
       " 490.68   495.533  494.734  501.85      486.864  503.62   504.554  495.647\n",
       " 488.769  492.557  498.574  502.918  …  500.26   512.339  499.901  509.2\n",
       " 484.818  488.811  484.216  491.078     480.318  502.574  495.859  482.713\n",
       " 490.716  490.706  488.029  489.303     490.139  496.699  504.417  495.399\n",
       "   ⋮                                 ⋱                             \n",
       " 492.338  506.552  498.043  508.865     492.476  522.553  515.19   503.898\n",
       " 495.88   494.283  493.323  495.518     493.086  512.047  511.691  499.915\n",
       " 492.856  497.37   493.583  494.868  …  493.368  511.778  503.622  504.209\n",
       " 493.359  498.749  500.733  497.458     493.408  511.303  509.747  499.732\n",
       " 494.714  500.448  489.384  499.589     491.107  509.814  503.526  498.399\n",
       " 489.664  499.706  495.836  503.58      493.921  499.438  496.446  493.1\n",
       " 488.814  499.987  496.359  500.118     500.335  506.758  501.737  499.607\n",
       " 494.834  497.069  496.152  499.251  …  495.473  506.086  505.327  498.451\n",
       " 496.665  498.813  489.957  495.991     493.009  507.192  506.791  505.989\n",
       " 494.448  496.237  497.78   494.526     503.206  514.616  497.367  511.025\n",
       " 502.298  502.056  502.629  502.755     494.795  514.044  511.319  497.916\n",
       " 495.492  496.378  496.4    499.135     503.367  511.957  507.15   501.229"
      ]
     },
     "execution_count": 8,
     "metadata": {},
     "output_type": "execute_result"
    }
   ],
   "source": [
    "using LinearAlgebra\n",
    "\n",
    "A = rand(10_000, 2_000)\n",
    "B = rand(2_000, 5_000)\n",
    "\n",
    "BLAS.set_num_threads(1)\n",
    "@btime $A*$B\n",
    "BLAS.set_num_threads(4)\n",
    "@btime $A*$B\n",
    "# can set the number of threads even higher, of course. You can also use the environment variable "
   ]
  },
  {
   "cell_type": "markdown",
   "metadata": {},
   "source": [
    "But that's kind of boring... let's have some fun with threads ourselves."
   ]
  },
  {
   "cell_type": "code",
   "execution_count": 9,
   "metadata": {},
   "outputs": [
    {
     "data": {
      "text/plain": [
       "4"
      ]
     },
     "execution_count": 9,
     "metadata": {},
     "output_type": "execute_result"
    }
   ],
   "source": [
    "using .Threads\n",
    "nthreads()"
   ]
  },
  {
   "cell_type": "code",
   "execution_count": 10,
   "metadata": {},
   "outputs": [
    {
     "data": {
      "text/plain": [
       "4-element Array{Int64,1}:\n",
       " 1\n",
       " 1\n",
       " 1\n",
       " 1"
      ]
     },
     "execution_count": 10,
     "metadata": {},
     "output_type": "execute_result"
    }
   ],
   "source": [
    "# a regular loop doesn't use threads by default\n",
    "A = zeros(Int, nthreads())\n",
    "for i in 1:nthreads()\n",
    "    A[i] = threadid()\n",
    "end\n",
    "A"
   ]
  },
  {
   "cell_type": "code",
   "execution_count": 11,
   "metadata": {},
   "outputs": [
    {
     "data": {
      "text/plain": [
       "4-element Array{Int64,1}:\n",
       " 1\n",
       " 2\n",
       " 3\n",
       " 4"
      ]
     },
     "execution_count": 11,
     "metadata": {},
     "output_type": "execute_result"
    }
   ],
   "source": [
    "# we need to use the @threads macro\n",
    "A = zeros(Int, nthreads())\n",
    "@threads for i in 1:nthreads()\n",
    "    A[i] = threadid()\n",
    "end\n",
    "A"
   ]
  },
  {
   "cell_type": "code",
   "execution_count": 12,
   "metadata": {},
   "outputs": [
    {
     "name": "stdout",
     "output_type": "stream",
     "text": [
      "  24.330 μs (0 allocations: 0 bytes)\n",
      "  16.575 ms (200024 allocations: 3.05 MiB)\n"
     ]
    },
    {
     "data": {
      "text/plain": [
       "(50160.45459802721, 50160.45459802758)"
      ]
     },
     "execution_count": 12,
     "metadata": {},
     "output_type": "execute_result"
    }
   ],
   "source": [
    "function threaded_sum1(A)\n",
    "    r = zero(eltype(A))\n",
    "    @threads for i in eachindex(A)\n",
    "        @inbounds r += A[i]\n",
    "    end\n",
    "    return r\n",
    "end\n",
    "\n",
    "A = rand(100_000)\n",
    "@btime sum($A)\n",
    "@btime threaded_sum1($A)\n",
    "sum(A), threaded_sum1(A)"
   ]
  },
  {
   "cell_type": "code",
   "execution_count": 13,
   "metadata": {},
   "outputs": [
    {
     "name": "stdout",
     "output_type": "stream",
     "text": [
      "  24.358 μs (0 allocations: 0 bytes)\n",
      "  14.378 ms (24 allocations: 2.92 KiB)\n"
     ]
    },
    {
     "data": {
      "text/plain": [
       "(50160.45459802721, 50160.45459802711)"
      ]
     },
     "execution_count": 13,
     "metadata": {},
     "output_type": "execute_result"
    }
   ],
   "source": [
    "function threaded_sum2(A)\n",
    "    r = Atomic{eltype(A)}(zero(eltype(A)))\n",
    "    @threads for i in eachindex(A)\n",
    "        @inbounds atomic_add!(r, A[i])\n",
    "    end\n",
    "    return r[]\n",
    "end\n",
    "@btime sum($A)\n",
    "@btime threaded_sum2($A)\n",
    "sum(A), threaded_sum2(A)"
   ]
  },
  {
   "cell_type": "code",
   "execution_count": 14,
   "metadata": {},
   "outputs": [
    {
     "name": "stdout",
     "output_type": "stream",
     "text": [
      "  0.061617 seconds (25 allocations: 3.031 KiB)\n"
     ]
    },
    {
     "data": {
      "text/plain": [
       "50160.45459802706"
      ]
     },
     "execution_count": 14,
     "metadata": {},
     "output_type": "execute_result"
    }
   ],
   "source": [
    "function threaded_sum3(A)\n",
    "    R = zeros(eltype(A), nthreads())\n",
    "    @threads for i in eachindex(A)\n",
    "        @inbounds R[threadid()] += A[i]\n",
    "    end\n",
    "    r = zero(eltype(A))\n",
    "    # sum the partial results from each thread\n",
    "    for i in eachindex(R)\n",
    "        @inbounds r += R[i]\n",
    "    end\n",
    "    return r\n",
    "end\n",
    "\n",
    "threaded_sum3(A)\n",
    "@time threaded_sum3(A)"
   ]
  }
 ],
 "metadata": {
  "kernelspec": {
   "display_name": "Julia 1.4.0",
   "language": "julia",
   "name": "julia-1.4-threads"
  },
  "language_info": {
   "file_extension": ".jl",
   "mimetype": "application/julia",
   "name": "julia",
   "version": "1.4.0"
  }
 },
 "nbformat": 4,
 "nbformat_minor": 4
}
