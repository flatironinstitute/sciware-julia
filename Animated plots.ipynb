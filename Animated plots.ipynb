{
 "cells": [
  {
   "cell_type": "code",
   "execution_count": null,
   "metadata": {},
   "outputs": [],
   "source": [
    "import Pkg; Pkg.activate(@__DIR__); Pkg.instantiate()\n",
    "using WebIO\n",
    "using Plots"
   ]
  },
  {
   "cell_type": "markdown",
   "metadata": {},
   "source": [
    "## Animations: Lorenz Attractor"
   ]
  },
  {
   "cell_type": "code",
   "execution_count": null,
   "metadata": {},
   "outputs": [],
   "source": [
    "\n",
    "# define the Lorenz attractor\n",
    "Base.@kwdef mutable struct Lorenz\n",
    "    dt::Float64 = 0.02\n",
    "    σ::Float64 = 10\n",
    "    ρ::Float64 = 28\n",
    "    β::Float64 = 8/3\n",
    "    x::Float64 = 1\n",
    "    y::Float64 = 1\n",
    "    z::Float64 = 1\n",
    "end\n",
    "\n",
    "function step!(l::Lorenz)\n",
    "    dx = l.σ * (l.y - l.x);         l.x += l.dt * dx\n",
    "    dy = l.x * (l.ρ - l.z) - l.y;   l.y += l.dt * dy\n",
    "    dz = l.x * l.y - l.β * l.z;     l.z += l.dt * dz\n",
    "end\n",
    "\n",
    "attractor = Lorenz()\n",
    "\n",
    "\n",
    "# initialize a 3D plot with 1 empty series\n",
    "plt = plot3d(\n",
    "    1,\n",
    "    xlim = (-30, 30),\n",
    "    ylim = (-30, 30),\n",
    "    zlim = (0, 60),\n",
    "    title = \"Lorenz Attractor\",\n",
    "    marker = 2,\n",
    ")\n",
    "\n",
    "# build an animated gif by pushing new points to the plot\n",
    "anim = @animate for i=1:1500\n",
    "    step!(attractor)\n",
    "    push!(plt, attractor.x, attractor.y, attractor.z)\n",
    "end\n",
    "gif(anim, \"anim_fps15.gif\", fps = 15)"
   ]
  },
  {
   "cell_type": "markdown",
   "metadata": {},
   "source": [
    "## Animation with colour: Quantum particle in a box"
   ]
  },
  {
   "cell_type": "code",
   "execution_count": null,
   "metadata": {},
   "outputs": [],
   "source": [
    "using DifferentialEquations, OrdinaryDiffEq, LinearAlgebra, ForwardDiff, Plots; gr()\n",
    "\n",
    "mutable struct TDSECpu <: Function\n",
    "    t::Float64              # the last timestep time to calculate Δt\n",
    "    diff_const::ComplexF64\n",
    "    ψ::Array{ComplexF64, 2}    # the wavefunction amplitude\n",
    "    Δψ::Array{ComplexF64, 2}   # place-holder for the Laplacian\n",
    "\n",
    "    function TDSECpu(ψ0, p)\n",
    "        self = new()\n",
    "        ny, nx = size(ψ0)\n",
    "        self.t = 0.0\n",
    "        self.diff_const = p\n",
    "        self.Δψ = zeros(ComplexF64, ny, nx)\n",
    "\n",
    "        return self\n",
    "    end\n",
    "end"
   ]
  },
  {
   "cell_type": "code",
   "execution_count": null,
   "metadata": {},
   "outputs": [],
   "source": [
    "\n",
    "# 5-point stencil\n",
    "function laplacian(Δψ::Matrix{ComplexF64}, ψ::Matrix{ComplexF64})\n",
    "    n1, n2 = size(ψ)\n",
    "    # internal nodes\n",
    "    for j in 2:n2-1, i in 2:n1-1\n",
    "        @inbounds Δψ[i,j] = ψ[i+1,j] + ψ[i-1,j] + ψ[i,j+1] + ψ[i,j-1] - 4*ψ[i,j]\n",
    "    end\n",
    "\n",
    "    # left/right edges\n",
    "    for i = 2:n1-1\n",
    "        @inbounds Δψ[i,1]  = ψ[i+1,1] + ψ[i-1,1] + 2*ψ[i,2] - 4*ψ[i,1]\n",
    "        @inbounds Δψ[i,n2] = ψ[i+1,n2] + ψ[i-1,n2] + 2*ψ[i,n2-1] - 4*ψ[i,n2]\n",
    "    end\n",
    "\n",
    "    # top/bottom edges\n",
    "    for j = 2:n2-1\n",
    "        @inbounds Δψ[1,j]  = ψ[1,j+1] + ψ[1,j-1] + 2*ψ[2,j] - 4*ψ[1,j]\n",
    "        @inbounds Δψ[n1,j] = ψ[n1,j+1] + ψ[n1,j-1] + 2*ψ[n1-1,j] - 4*ψ[n1,j]\n",
    "    end\n",
    "\n",
    "    # corners\n",
    "    @inbounds Δψ[1,1]   = 2*(ψ[2,1] + ψ[1,2]) - 4*ψ[1,1]\n",
    "    @inbounds Δψ[n1,1]  = 2*(ψ[n1-1,1] + ψ[n1,2]) - 4*ψ[n1,1]\n",
    "    @inbounds Δψ[1,n2]  = 2*(ψ[2,n2] + ψ[1,n2-1]) - 4*ψ[1,n2]\n",
    "    @inbounds Δψ[n1,n2] = 2*(ψ[n1-1,n2] + ψ[n1,n2-1]) - 4*ψ[n1,n2]\n",
    "end\n",
    "function (f::TDSECpu)(dψ::Matrix{ComplexF64}, ψ::Matrix{ComplexF64}, p, t::Float64)::Matrix{ComplexF64}\n",
    "    laplacian(f.Δψ, ψ)\n",
    "    dψ .+= f.diff_const .* f.Δψ\n",
    "    return dψ\n",
    "end"
   ]
  },
  {
   "cell_type": "code",
   "execution_count": null,
   "metadata": {},
   "outputs": [],
   "source": [
    "const Nx = 51\n",
    "const Ny = 51\n",
    "ψ0 = zeros(ComplexF64, Ny, Nx)\n",
    "ψ0[div(Ny, 2), div(Nx, 2)] = complex(one(Float64), zero(Float64)) # particle starts in the middle of the box\n",
    "\n",
    "deriv_cpu = TDSECpu(ψ0, im)"
   ]
  },
  {
   "cell_type": "code",
   "execution_count": null,
   "metadata": {},
   "outputs": [],
   "source": [
    "dψ = similar(ψ0)\n",
    "laplacian(deriv_cpu.Δψ, ψ0)\n",
    "@time laplacian(deriv_cpu.Δψ, ψ0)\n",
    "deriv_cpu(dψ, ψ0, 1, 0.0)\n",
    "@time deriv_cpu(dψ, ψ0, 1, 0.0);"
   ]
  },
  {
   "cell_type": "code",
   "execution_count": null,
   "metadata": {},
   "outputs": [],
   "source": [
    "using ProgressLogging\n",
    "condition = function(t, u, integrator)\n",
    "    true\n",
    "end\n",
    "function affect!(integrator)\n",
    "    nrm = sum(abs2.(integrator.u))\n",
    "    integrator.u ./= sqrt(nrm)\n",
    "end\n",
    "cb = DiscreteCallback(condition,affect!);"
   ]
  },
  {
   "cell_type": "code",
   "execution_count": null,
   "metadata": {
    "scrolled": true
   },
   "outputs": [],
   "source": [
    "tmax  = 4.0\n",
    "tspan = (0., tmax)\n",
    "ψ0    = zeros(ComplexF64, Ny, Nx)\n",
    "ts    = 0.0:0.01:tmax\n",
    "ψ0[div(Ny, 2), div(Nx, 2)] = complex(one(Float64), zero(Float64)) # bottom left corner\n",
    "prob  = ODEProblem(deriv_cpu, ψ0, tspan)\n",
    "sol   = solve(prob,Tsit5(),maxiters=1e7, abstol=1e-3, reltol=1e-3, progress=true, callback=cb, tstops=ts, saveat=ts);"
   ]
  },
  {
   "cell_type": "code",
   "execution_count": null,
   "metadata": {},
   "outputs": [],
   "source": [
    "@show length(sol)"
   ]
  },
  {
   "cell_type": "code",
   "execution_count": null,
   "metadata": {},
   "outputs": [],
   "source": [
    "tis = filter(i->sol.t[i] ∈ ts, 1:length(sol))\n",
    "@show length(tis)\n",
    "anim = @animate for ti in tis\n",
    "    p1 = surface(1:Nx, 1:Ny, abs2.(sol[ti]), title=\"t=$(sol.t[ti])\")\n",
    "    p2 = heatmap(1:Nx, 1:Ny, abs2.(sol[ti]), title=\"t=$(sol.t[ti])\")\n",
    "    plot(p1, p2, layout=(1, 2))\n",
    "end\n",
    "gif(anim, \"tdse_norm_fps15.gif\", fps = 15)"
   ]
  },
  {
   "cell_type": "code",
   "execution_count": null,
   "metadata": {},
   "outputs": [],
   "source": []
  }
 ],
 "metadata": {
  "@webio": {
   "lastCommId": null,
   "lastKernelId": null
  },
  "kernelspec": {
   "display_name": "Julia 1.4.0",
   "language": "julia",
   "name": "julia-1.4"
  },
  "language_info": {
   "file_extension": ".jl",
   "mimetype": "application/julia",
   "name": "julia",
   "version": "1.4.0"
  }
 },
 "nbformat": 4,
 "nbformat_minor": 4
}
