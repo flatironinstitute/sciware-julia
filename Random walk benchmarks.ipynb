{
 "cells": [
  {
   "cell_type": "code",
   "execution_count": 1,
   "metadata": {},
   "outputs": [
    {
     "data": {
      "text/plain": [
       "walk1 (generic function with 1 method)"
      ]
     },
     "execution_count": 1,
     "metadata": {},
     "output_type": "execute_result"
    }
   ],
   "source": [
    "function walk1(T)\n",
    "    x = 0\n",
    "    \n",
    "    for i in 1:T\n",
    "        if rand() < 0.5\n",
    "            x += 1\n",
    "        else\n",
    "            x -= 1\n",
    "        end\n",
    "    end\n",
    "    \n",
    "    return x\n",
    "end"
   ]
  },
  {
   "cell_type": "code",
   "execution_count": 2,
   "metadata": {},
   "outputs": [
    {
     "data": {
      "text/plain": [
       "do_walks (generic function with 1 method)"
      ]
     },
     "execution_count": 2,
     "metadata": {},
     "output_type": "execute_result"
    }
   ],
   "source": [
    "function do_walks(walk, T, N)\n",
    "    sumsq = 0\n",
    "    \n",
    "    for i in 1:N\n",
    "        sumsq += walk(T)^2\n",
    "    end\n",
    "    \n",
    "    return sumsq / N\n",
    "end"
   ]
  },
  {
   "cell_type": "code",
   "execution_count": 3,
   "metadata": {},
   "outputs": [
    {
     "data": {
      "text/plain": [
       "13.2"
      ]
     },
     "execution_count": 3,
     "metadata": {},
     "output_type": "execute_result"
    }
   ],
   "source": [
    "do_walks(walk1, 10, 10)"
   ]
  },
  {
   "cell_type": "code",
   "execution_count": 5,
   "metadata": {},
   "outputs": [
    {
     "name": "stdout",
     "output_type": "stream",
     "text": [
      "  0.513682 seconds (7 allocations: 208 bytes)\n"
     ]
    },
    {
     "data": {
      "text/plain": [
       "9962.886"
      ]
     },
     "execution_count": 5,
     "metadata": {},
     "output_type": "execute_result"
    }
   ],
   "source": [
    "@time do_walks(walk1, 10^4, 10^4)"
   ]
  },
  {
   "cell_type": "code",
   "execution_count": 6,
   "metadata": {},
   "outputs": [
    {
     "name": "stdout",
     "output_type": "stream",
     "text": [
      "  4.965317 seconds (1.89 k allocations: 115.025 KiB)\n"
     ]
    },
    {
     "data": {
      "text/plain": [
       "10011.06716"
      ]
     },
     "execution_count": 6,
     "metadata": {},
     "output_type": "execute_result"
    }
   ],
   "source": [
    "@time do_walks(walk1, 10^4, 10^5)"
   ]
  },
  {
   "cell_type": "code",
   "execution_count": 13,
   "metadata": {},
   "outputs": [
    {
     "data": {
      "text/plain": [
       "do_walks2 (generic function with 1 method)"
      ]
     },
     "execution_count": 13,
     "metadata": {},
     "output_type": "execute_result"
    }
   ],
   "source": [
    "function do_walks2(walk, T, N)\n",
    "    sumsq = 0\n",
    "    \n",
    "    for i in 1:N\n",
    "        sumsq += walk(T)^2\n",
    "    end\n",
    "    \n",
    "    return sumsq / N\n",
    "end"
   ]
  },
  {
   "cell_type": "code",
   "execution_count": 14,
   "metadata": {},
   "outputs": [
    {
     "name": "stdout",
     "output_type": "stream",
     "text": [
      "  5.019251 seconds (16.98 k allocations: 921.322 KiB)\n"
     ]
    },
    {
     "data": {
      "text/plain": [
       "10040.37244"
      ]
     },
     "execution_count": 14,
     "metadata": {},
     "output_type": "execute_result"
    }
   ],
   "source": [
    "@time do_walks2(walk1, 10^4, 10^5)"
   ]
  },
  {
   "cell_type": "code",
   "execution_count": 15,
   "metadata": {},
   "outputs": [
    {
     "data": {
      "text/plain": [
       "walk2 (generic function with 1 method)"
      ]
     },
     "execution_count": 15,
     "metadata": {},
     "output_type": "execute_result"
    }
   ],
   "source": [
    "function walk2(T)\n",
    "    x = 0\n",
    "    \n",
    "    r = rand(T)\n",
    "    \n",
    "    for i in 1:T\n",
    "        if r[i] < 0.5\n",
    "            x += 1\n",
    "        else\n",
    "            x -= 1\n",
    "        end\n",
    "    end\n",
    "    \n",
    "    return x\n",
    "end"
   ]
  },
  {
   "cell_type": "code",
   "execution_count": 16,
   "metadata": {},
   "outputs": [
    {
     "name": "stdout",
     "output_type": "stream",
     "text": [
      "  5.290813 seconds (226.56 k allocations: 7.459 GiB, 15.17% gc time)\n"
     ]
    },
    {
     "data": {
      "text/plain": [
       "10035.07772"
      ]
     },
     "execution_count": 16,
     "metadata": {},
     "output_type": "execute_result"
    }
   ],
   "source": [
    "@time do_walks2(walk2, 10^4, 10^5)"
   ]
  },
  {
   "cell_type": "code",
   "execution_count": 19,
   "metadata": {},
   "outputs": [
    {
     "name": "stderr",
     "output_type": "stream",
     "text": [
      "WARNING: redefining constant rng\n"
     ]
    }
   ],
   "source": [
    "using Random\n",
    "const rng = MersenneTwister();"
   ]
  },
  {
   "cell_type": "code",
   "execution_count": 20,
   "metadata": {},
   "outputs": [
    {
     "data": {
      "text/plain": [
       "walk3 (generic function with 1 method)"
      ]
     },
     "execution_count": 20,
     "metadata": {},
     "output_type": "execute_result"
    }
   ],
   "source": [
    "function walk3(T)\n",
    "    x = 0\n",
    "    \n",
    "    for i in 1:T\n",
    "        if rand(rng) < 0.5\n",
    "            x += 1\n",
    "        else\n",
    "            x -= 1\n",
    "        end\n",
    "    end\n",
    "    \n",
    "    return x\n",
    "end"
   ]
  },
  {
   "cell_type": "code",
   "execution_count": 21,
   "metadata": {},
   "outputs": [
    {
     "name": "stdout",
     "output_type": "stream",
     "text": [
      "  1.474815 seconds (27.68 k allocations: 1.411 MiB)\n"
     ]
    },
    {
     "data": {
      "text/plain": [
       "10023.44568"
      ]
     },
     "execution_count": 21,
     "metadata": {},
     "output_type": "execute_result"
    }
   ],
   "source": [
    "@time do_walks2(walk3, 10^4, 10^5)"
   ]
  },
  {
   "cell_type": "code",
   "execution_count": 22,
   "metadata": {},
   "outputs": [
    {
     "name": "stdout",
     "output_type": "stream",
     "text": [
      "  1.483803 seconds (7 allocations: 208 bytes)\n"
     ]
    },
    {
     "data": {
      "text/plain": [
       "10005.64028"
      ]
     },
     "execution_count": 22,
     "metadata": {},
     "output_type": "execute_result"
    }
   ],
   "source": [
    "@time do_walks2(walk3, 10^4, 10^5)"
   ]
  },
  {
   "cell_type": "code",
   "execution_count": 23,
   "metadata": {},
   "outputs": [
    {
     "name": "stdout",
     "output_type": "stream",
     "text": [
      "\u001b[32m\u001b[1m  Updating\u001b[22m\u001b[39m registry at `~/.julia/registries/General`\n",
      "\u001b[32m\u001b[1m  Updating\u001b[22m\u001b[39m git-repo `https://github.com/JuliaRegistries/General.git`\n",
      "\u001b[?25l\u001b[2K\u001b[?25h\u001b[32m\u001b[1m Resolving\u001b[22m\u001b[39m package versions...\n",
      "\u001b[32m\u001b[1m Installed\u001b[22m\u001b[39m CategoricalArrays ── v0.7.7\n",
      "\u001b[32m\u001b[1m Installed\u001b[22m\u001b[39m DynamicPolynomials ─ v0.3.7\n",
      "\u001b[32m\u001b[1m Installed\u001b[22m\u001b[39m CUDAnative ───────── v2.8.0\n",
      "\u001b[32m\u001b[1m Installed\u001b[22m\u001b[39m DocSeeker ────────── v0.3.2\n",
      "\u001b[32m\u001b[1m Installed\u001b[22m\u001b[39m MKL_jll ──────────── v2019.0.117+2\n",
      "\u001b[32m\u001b[1m  Updating\u001b[22m\u001b[39m `~/.julia/environments/v1.3/Project.toml`\n",
      " \u001b[90m [e6cf234a]\u001b[39m\u001b[92m + RandomNumbers v1.4.0\u001b[39m\n",
      "\u001b[32m\u001b[1m  Updating\u001b[22m\u001b[39m `~/.julia/environments/v1.3/Manifest.toml`\n",
      " \u001b[90m [be33ccc6]\u001b[39m\u001b[93m ↑ CUDAnative v2.7.0 ⇒ v2.8.0\u001b[39m\n",
      " \u001b[90m [324d7699]\u001b[39m\u001b[93m ↑ CategoricalArrays v0.7.6 ⇒ v0.7.7\u001b[39m\n",
      " \u001b[90m [33d173f1]\u001b[39m\u001b[93m ↑ DocSeeker v0.3.1 ⇒ v0.3.2\u001b[39m\n",
      " \u001b[90m [7c1d4256]\u001b[39m\u001b[93m ↑ DynamicPolynomials v0.3.6 ⇒ v0.3.7\u001b[39m\n",
      " \u001b[90m [856f044c]\u001b[39m\u001b[93m ↑ MKL_jll v2019.0.117+0 ⇒ v2019.0.117+2\u001b[39m\n"
     ]
    }
   ],
   "source": [
    "]add RandomNumbers"
   ]
  },
  {
   "cell_type": "code",
   "execution_count": 24,
   "metadata": {},
   "outputs": [
    {
     "name": "stderr",
     "output_type": "stream",
     "text": [
      "┌ Info: Precompiling RandomNumbers [e6cf234a-135c-5ec9-84dd-332b85af5143]\n",
      "└ @ Base loading.jl:1273\n"
     ]
    }
   ],
   "source": [
    "using RandomNumbers"
   ]
  },
  {
   "cell_type": "code",
   "execution_count": 27,
   "metadata": {},
   "outputs": [
    {
     "data": {
      "text/plain": [
       "walk4 (generic function with 1 method)"
      ]
     },
     "execution_count": 27,
     "metadata": {},
     "output_type": "execute_result"
    }
   ],
   "source": [
    "function walk4(T)\n",
    "    x = 0\n",
    "    \n",
    "    rng = RandomNumbers.Xorshifts.Xoroshiro128Plus()\n",
    "    \n",
    "    for i in 1:T\n",
    "        if rand(rng) < 0.5\n",
    "            x += 1\n",
    "        else\n",
    "            x -= 1\n",
    "        end\n",
    "    end\n",
    "    \n",
    "    return x\n",
    "end"
   ]
  },
  {
   "cell_type": "code",
   "execution_count": 29,
   "metadata": {},
   "outputs": [
    {
     "ename": "SystemError",
     "evalue": "SystemError: opening file \"/dev/urandom\": Too many open files",
     "output_type": "error",
     "traceback": [
      "SystemError: opening file \"/dev/urandom\": Too many open files",
      "",
      "Stacktrace:",
      " [1] #systemerror#44(::Nothing, ::typeof(systemerror), ::String, ::Bool) at /Applications/Julia-1.3.app/Contents/Resources/julia/lib/julia/sys.dylib:?",
      " [2] #open#512(::Nothing, ::Nothing, ::Nothing, ::Nothing, ::Nothing, ::typeof(open), ::String) at /Applications/Julia-1.3.app/Contents/Resources/julia/lib/julia/sys.dylib:?",
      " [3] open at ./iostream.jl:246 [inlined]",
      " [4] RandomDevice#1 at /Users/julia/buildbot/worker/package_macos64/build/usr/share/julia/stdlib/v1.3/Random/src/RNGs.jl:25 [inlined]",
      " [5] RandomDevice at /Users/julia/buildbot/worker/package_macos64/build/usr/share/julia/stdlib/v1.3/Random/src/RNGs.jl:25 [inlined]",
      " [6] gen_seed at /Users/dpsanders/.julia/packages/RandomNumbers/m57pA/src/utils.jl:24 [inlined]",
      " [7] RandomNumbers.Xorshifts.Xoroshiro128Plus() at /Users/dpsanders/.julia/packages/RandomNumbers/m57pA/src/Xorshifts/xoroshiro128.jl:26",
      " [8] top-level scope at In[29]:1"
     ]
    }
   ],
   "source": [
    "const rng2 = RandomNumbers.Xorshifts.Xoroshiro128Plus()"
   ]
  },
  {
   "cell_type": "code",
   "execution_count": null,
   "metadata": {},
   "outputs": [],
   "source": []
  }
 ],
 "metadata": {
  "kernelspec": {
   "display_name": "Julia 1.3.0",
   "language": "julia",
   "name": "julia-1.3"
  },
  "language_info": {
   "file_extension": ".jl",
   "mimetype": "application/julia",
   "name": "julia",
   "version": "1.3.1"
  }
 },
 "nbformat": 4,
 "nbformat_minor": 2
}
