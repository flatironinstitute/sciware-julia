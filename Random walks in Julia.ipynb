{
 "cells": [
  {
   "cell_type": "code",
   "execution_count": null,
   "metadata": {},
   "outputs": [],
   "source": [
    "import Pkg; Pkg.activate(@__DIR__); Pkg.instantiate()"
   ]
  },
  {
   "cell_type": "markdown",
   "metadata": {},
   "source": [
    "## Walking to and fro in Julia: Benchmarking and inspecting native code\n",
    "\n",
    "Let's write some variations on a function which computes a one-dimension random walk. We will take `n` steps, and at each step, we have the choice to move one unit left/right. We want to generate a path over `n` steps and compute the final location of the walker. We'll use Julia's in-built `Random` standard library to make the steps, and the `BenchmarkTools` package later on to determine which method is fastest."
   ]
  },
  {
   "cell_type": "code",
   "execution_count": 1,
   "metadata": {},
   "outputs": [
    {
     "data": {
      "text/plain": [
       "walk (generic function with 1 method)"
      ]
     },
     "execution_count": 1,
     "metadata": {},
     "output_type": "execute_result"
    }
   ],
   "source": [
    "function walk(T::Integer)\n",
    "    x = 0\n",
    "    \n",
    "    for i in 1:T        \n",
    "        if rand() < 0.5\n",
    "            x += 1\n",
    "        else\n",
    "            x -= 1\n",
    "        end\n",
    "    end\n",
    "    \n",
    "    return x\n",
    "end"
   ]
  },
  {
   "cell_type": "markdown",
   "metadata": {},
   "source": [
    "The `rand( (-1, +1) )` here picks one of these two options - `rand( iterable )` randomly selects a member of the collection."
   ]
  },
  {
   "cell_type": "code",
   "execution_count": 2,
   "metadata": {},
   "outputs": [
    {
     "data": {
      "text/plain": [
       "walk2 (generic function with 1 method)"
      ]
     },
     "execution_count": 2,
     "metadata": {},
     "output_type": "execute_result"
    }
   ],
   "source": [
    "function walk2(T::Integer)\n",
    "    x = 0\n",
    "    for i in 1:T\n",
    "        x += rand( (-1, +1) )\n",
    "    end\n",
    "end"
   ]
  },
  {
   "cell_type": "code",
   "execution_count": 3,
   "metadata": {},
   "outputs": [
    {
     "data": {
      "text/plain": [
       "walk3 (generic function with 1 method)"
      ]
     },
     "execution_count": 3,
     "metadata": {},
     "output_type": "execute_result"
    }
   ],
   "source": [
    "function walk3(T::Integer)\n",
    "    x = 0\n",
    "    for i in 1:T\n",
    "        x += (2 * convert(Integer, round(rand())) - 1)\n",
    "    end\n",
    "end"
   ]
  },
  {
   "cell_type": "code",
   "execution_count": 4,
   "metadata": {},
   "outputs": [
    {
     "data": {
      "text/plain": [
       "walk4 (generic function with 1 method)"
      ]
     },
     "execution_count": 4,
     "metadata": {},
     "output_type": "execute_result"
    }
   ],
   "source": [
    "function walk4(T)\n",
    "    return cumsum(rand( (-1, +1), T ))[end]\n",
    "end"
   ]
  },
  {
   "cell_type": "code",
   "execution_count": 28,
   "metadata": {},
   "outputs": [
    {
     "data": {
      "text/plain": [
       "walk5 (generic function with 1 method)"
      ]
     },
     "execution_count": 28,
     "metadata": {},
     "output_type": "execute_result"
    }
   ],
   "source": [
    "using Random\n",
    "function walk5(T)\n",
    "    return sum(2 .* bitrand(100) .- 1)\n",
    "end"
   ]
  },
  {
   "cell_type": "code",
   "execution_count": 8,
   "metadata": {},
   "outputs": [
    {
     "name": "stderr",
     "output_type": "stream",
     "text": [
      "┌ Info: Precompiling BenchmarkTools [6e4b80f9-dd63-53aa-95a3-0cdb28fa8baf]\n",
      "└ @ Base loading.jl:1273\n"
     ]
    }
   ],
   "source": [
    "using BenchmarkTools"
   ]
  },
  {
   "cell_type": "code",
   "execution_count": 29,
   "metadata": {},
   "outputs": [
    {
     "name": "stdout",
     "output_type": "stream",
     "text": [
      "  196.996 ns (3 allocations: 1.00 KiB)\n"
     ]
    },
    {
     "data": {
      "text/plain": [
       "-8"
      ]
     },
     "execution_count": 29,
     "metadata": {},
     "output_type": "execute_result"
    }
   ],
   "source": [
    "@btime walk5(100)"
   ]
  },
  {
   "cell_type": "code",
   "execution_count": 11,
   "metadata": {},
   "outputs": [
    {
     "name": "stdout",
     "output_type": "stream",
     "text": [
      "  286.768 ns (2 allocations: 1.75 KiB)\n"
     ]
    },
    {
     "data": {
      "text/plain": [
       "-8"
      ]
     },
     "execution_count": 11,
     "metadata": {},
     "output_type": "execute_result"
    }
   ],
   "source": [
    "@btime walk4(100)"
   ]
  },
  {
   "cell_type": "code",
   "execution_count": 30,
   "metadata": {},
   "outputs": [
    {
     "name": "stdout",
     "output_type": "stream",
     "text": [
      "  536.106 ns (0 allocations: 0 bytes)\n"
     ]
    }
   ],
   "source": [
    "@btime walk3(100)\n"
   ]
  },
  {
   "cell_type": "code",
   "execution_count": 32,
   "metadata": {},
   "outputs": [
    {
     "name": "stdout",
     "output_type": "stream",
     "text": [
      "  918.182 ns (0 allocations: 0 bytes)\n"
     ]
    }
   ],
   "source": [
    "@btime walk2(100)"
   ]
  },
  {
   "cell_type": "code",
   "execution_count": 33,
   "metadata": {},
   "outputs": [
    {
     "name": "stdout",
     "output_type": "stream",
     "text": [
      "  583.602 ns (0 allocations: 0 bytes)\n"
     ]
    },
    {
     "data": {
      "text/plain": [
       "-2"
      ]
     },
     "execution_count": 33,
     "metadata": {},
     "output_type": "execute_result"
    }
   ],
   "source": [
    "@btime walk(100)"
   ]
  },
  {
   "cell_type": "code",
   "execution_count": 38,
   "metadata": {},
   "outputs": [
    {
     "data": {
      "text/plain": [
       "walk_mean (generic function with 1 method)"
      ]
     },
     "execution_count": 38,
     "metadata": {},
     "output_type": "execute_result"
    }
   ],
   "source": [
    "function walk_mean(T, N)\n",
    "    sumsq = 0.0\n",
    "    \n",
    "    for i in 1:N\n",
    "        w = walk5(T)\n",
    "        sumsq += w^2\n",
    "    end\n",
    "    \n",
    "    return sumsq / N\n",
    "end"
   ]
  },
  {
   "cell_type": "code",
   "execution_count": 39,
   "metadata": {},
   "outputs": [
    {
     "name": "stdout",
     "output_type": "stream",
     "text": [
      "  0.056225 seconds (317.26 k allocations: 98.570 MiB, 36.67% gc time)\n"
     ]
    },
    {
     "data": {
      "text/plain": [
       "100.26504"
      ]
     },
     "execution_count": 39,
     "metadata": {},
     "output_type": "execute_result"
    }
   ],
   "source": [
    "@time walk_mean(10^4, 10^5)"
   ]
  },
  {
   "cell_type": "code",
   "execution_count": 40,
   "metadata": {},
   "outputs": [
    {
     "data": {
      "text/plain": [
       "0.053939936"
      ]
     },
     "execution_count": 40,
     "metadata": {},
     "output_type": "execute_result"
    }
   ],
   "source": [
    "time_julia = @elapsed walk_mean(10^4, 10^5)"
   ]
  },
  {
   "cell_type": "code",
   "execution_count": 41,
   "metadata": {},
   "outputs": [
    {
     "data": {
      "text/plain": [
       "113"
      ]
     },
     "execution_count": 41,
     "metadata": {},
     "output_type": "execute_result"
    }
   ],
   "source": [
    "time_python = 113"
   ]
  },
  {
   "cell_type": "code",
   "execution_count": 42,
   "metadata": {},
   "outputs": [
    {
     "data": {
      "text/plain": [
       "2094.9227674278295"
      ]
     },
     "execution_count": 42,
     "metadata": {},
     "output_type": "execute_result"
    }
   ],
   "source": [
    "time_python / time_julia"
   ]
  },
  {
   "cell_type": "code",
   "execution_count": 31,
   "metadata": {
    "scrolled": true
   },
   "outputs": [
    {
     "name": "stdout",
     "output_type": "stream",
     "text": [
      "\t.section\t__TEXT,__text,regular,pure_instructions\n",
      "; ┌ @ In[3]:2 within `walk3'\n",
      "\tpushq\t%rbp\n",
      "\tmovq\t%rsp, %rbp\n",
      "\tpushq\t%r15\n",
      "\tpushq\t%r14\n",
      "\tpushq\t%r13\n",
      "\tpushq\t%r12\n",
      "\tpushq\t%rbx\n",
      "\tandq\t$-32, %rsp\n",
      "\tsubq\t$96, %rsp\n",
      "\tmovq\t%rdi, %r12\n",
      "\tvxorps\t%xmm0, %xmm0, %xmm0\n",
      "\tvmovaps\t%ymm0, 32(%rsp)\n",
      "\tmovabsq\t$jl_get_ptls_states_fast, %rax\n",
      "\tvzeroupper\n",
      "\tcallq\t*%rax\n",
      "; │ @ In[3]:3 within `walk3'\n",
      "; │┌ @ range.jl:5 within `Colon'\n",
      "; ││┌ @ range.jl:277 within `UnitRange'\n",
      "; │││┌ @ range.jl:282 within `unitrange_last'\n",
      "; ││││┌ @ operators.jl:341 within `>='\n",
      "; │││││┌ @ int.jl:424 within `<='\n",
      "\tmovq\t$4, 32(%rsp)\n",
      "\tmovq\t(%rax), %rcx\n",
      "\tmovq\t%rcx, 40(%rsp)\n",
      "\tleaq\t32(%rsp), %rcx\n",
      "\tmovq\t%rax, 24(%rsp)\n",
      "\tmovq\t%rcx, (%rax)\n",
      "\ttestq\t%r12, %r12\n",
      "; │└└└└└\n",
      "\tjle\tL230\n",
      "; │ @ In[3]:4 within `walk3'\n",
      "; │┌ @ Random.jl:256 within `rand'\n",
      "; ││┌ @ RNGs.jl:296 within `default_rng'\n",
      "; │││┌ @ threadingconstructs.jl:10 within `threadid'\n",
      "\tmovq\t24(%rsp), %rax\n",
      "\tmovswq\t16(%rax), %r15\n",
      "; │└└└\n",
      "; │ @ In[3]:3 within `walk3'\n",
      "\taddq\t$-1, %r12\n",
      "\tmovb\t$2, %r14b\n",
      "\taddq\t$1, %r15\n",
      "\tmovabsq\t$default_rng, %r13\n",
      "\tjmp\tL135\n",
      "\tnopl\t(%rax)\n",
      "; │ @ In[3]:4 within `walk3'\n",
      "L128:\n",
      "\taddq\t$-1, %r12\n",
      "\tmovb\t$1, %r14b\n",
      "; │┌ @ Random.jl:256 within `rand'\n",
      "; ││┌ @ RNGs.jl:296 within `default_rng'\n",
      "L135:\n",
      "\tmovq\t%r15, %rdi\n",
      "\tcallq\t*%r13\n",
      "\tmovq\t%rax, %rbx\n",
      "; ││└\n",
      "; ││ @ Random.jl:256 within `rand' @ Random.jl:256 @ generation.jl:35 @ Random.jl:253 @ RNGs.jl:383\n",
      "; ││┌ @ RNGs.jl:189 within `reserve_1'\n",
      "; │││┌ @ RNGs.jl:179 within `mt_empty'\n",
      "; ││││┌ @ Base.jl:20 within `getproperty'\n",
      "\tmovq\t32(%rbx), %rax\n",
      "; ││││└\n",
      "; ││││┌ @ promotion.jl:401 within `=='\n",
      "\tcmpq\t$1002, %rax             ## imm = 0x3EA\n",
      "; │││└└\n",
      "\tjne\tL203\n",
      "; │││┌ @ RNGs.jl:185 within `gen_rand'\n",
      "; ││││┌ @ gcutils.jl:91 within `macro expansion'\n",
      "; │││││┌ @ Base.jl:20 within `getproperty'\n",
      "\tmovq\t8(%rbx), %rdi\n",
      "\tmovq\t16(%rbx), %rax\n",
      "; ││││└└\n",
      "; ││││┌ @ pointer.jl:65 within `macro expansion'\n",
      "\tmovq\t(%rax), %rsi\n",
      "; ││││└\n",
      "; ││││┌ @ gcutils.jl:91 within `macro expansion'\n",
      "; │││││┌ @ array.jl:216 within `length'\n",
      "\tmovq\t8(%rax), %rdx\n",
      "\tmovq\t%rbx, 56(%rsp)\n",
      "\tmovq\t%rdi, 48(%rsp)\n",
      "; │││││└\n",
      "\tmovabsq\t$\"dsfmt_fill_array_close1_open2!\", %rax\n",
      "\tcallq\t*%rax\n",
      "; ││││└\n",
      "; ││││ @ RNGs.jl:186 within `gen_rand'\n",
      "; ││││┌ @ RNGs.jl:180 within `mt_setfull!'\n",
      "; │││││┌ @ Base.jl:21 within `setproperty!'\n",
      "\tmovq\t$0, 32(%rbx)\n",
      "; ││└└└└\n",
      "; ││ @ Random.jl:256 within `rand' @ Random.jl:256 @ generation.jl:35 @ Random.jl:253 @ Base.jl:20\n",
      "\txorl\t%eax, %eax\n",
      "; ││ @ Random.jl:256 within `rand' @ Random.jl:256 @ generation.jl:35 @ Random.jl:253 @ RNGs.jl:384\n",
      "; ││┌ @ RNGs.jl:359 within `rand_inbounds'\n",
      "; │││┌ @ int.jl:53 within `mt_pop!'\n",
      "L203:\n",
      "\taddq\t$1, %rax\n",
      "; │││└\n",
      "; │││┌ @ RNGs.jl:182 within `mt_pop!'\n",
      "; ││││┌ @ Base.jl:21 within `setproperty!'\n",
      "\tmovq\t%rax, 32(%rbx)\n",
      "; │└└└└\n",
      "\tshlb\t$6, %r14b\n",
      "\taddb\t$-64, %r14b\n",
      "\tsarb\t$6, %r14b\n",
      "\tjs\tL258\n",
      "; │┌ @ range.jl:597 within `iterate'\n",
      "; ││┌ @ promotion.jl:401 within `=='\n",
      "\ttestq\t%r12, %r12\n",
      "; │└└\n",
      "\tjne\tL128\n",
      "L230:\n",
      "\tmovq\t40(%rsp), %rax\n",
      "\tmovq\t24(%rsp), %rcx\n",
      "\tmovq\t%rax, (%rcx)\n",
      "; │ @ In[3]:4 within `walk3'\n",
      "\tleaq\t-40(%rbp), %rsp\n",
      "\tpopq\t%rbx\n",
      "\tpopq\t%r12\n",
      "\tpopq\t%r13\n",
      "\tpopq\t%r14\n",
      "\tpopq\t%r15\n",
      "\tpopq\t%rbp\n",
      "\tretq\n",
      "L258:\n",
      "\tmovabsq\t$jl_throw, %rax\n",
      "\tmovabsq\t$jl_system_image_data, %rdi\n",
      "\tcallq\t*%rax\n",
      "\tnopl\t(%rax,%rax)\n",
      "; └\n"
     ]
    }
   ],
   "source": [
    "@code_native walk3(100)"
   ]
  },
  {
   "cell_type": "code",
   "execution_count": 34,
   "metadata": {},
   "outputs": [
    {
     "name": "stdout",
     "output_type": "stream",
     "text": [
      "Variables\n",
      "  #self#\u001b[36m::Core.Compiler.Const(walk2, false)\u001b[39m\n",
      "  T\u001b[36m::Int64\u001b[39m\n",
      "  x\u001b[36m::Int64\u001b[39m\n",
      "  @_4\u001b[33m\u001b[1m::Union{Nothing, Tuple{Int64,Int64}}\u001b[22m\u001b[39m\n",
      "  i\u001b[36m::Int64\u001b[39m\n",
      "\n",
      "Body\u001b[36m::Nothing\u001b[39m\n",
      "\u001b[90m1 ─\u001b[39m       (x = 0)\n",
      "\u001b[90m│  \u001b[39m %2  = (1:T)\u001b[36m::Core.Compiler.PartialStruct(UnitRange{Int64}, Any[Core.Compiler.Const(1, false), Int64])\u001b[39m\n",
      "\u001b[90m│  \u001b[39m       (@_4 = Base.iterate(%2))\n",
      "\u001b[90m│  \u001b[39m %4  = (@_4 === nothing)\u001b[36m::Bool\u001b[39m\n",
      "\u001b[90m│  \u001b[39m %5  = Base.not_int(%4)\u001b[36m::Bool\u001b[39m\n",
      "\u001b[90m└──\u001b[39m       goto #4 if not %5\n",
      "\u001b[90m2 ┄\u001b[39m %7  = @_4::Tuple{Int64,Int64}\u001b[36m::Tuple{Int64,Int64}\u001b[39m\n",
      "\u001b[90m│  \u001b[39m       (i = Core.getfield(%7, 1))\n",
      "\u001b[90m│  \u001b[39m %9  = Core.getfield(%7, 2)\u001b[36m::Int64\u001b[39m\n",
      "\u001b[90m│  \u001b[39m %10 = x\u001b[36m::Int64\u001b[39m\n",
      "\u001b[90m│  \u001b[39m %11 = Core.tuple(-1, 1)\u001b[36m::Core.Compiler.Const((-1, 1), false)\u001b[39m\n",
      "\u001b[90m│  \u001b[39m %12 = Main.rand(%11)\u001b[36m::Int64\u001b[39m\n",
      "\u001b[90m│  \u001b[39m       (x = %10 + %12)\n",
      "\u001b[90m│  \u001b[39m       (@_4 = Base.iterate(%2, %9))\n",
      "\u001b[90m│  \u001b[39m %15 = (@_4 === nothing)\u001b[36m::Bool\u001b[39m\n",
      "\u001b[90m│  \u001b[39m %16 = Base.not_int(%15)\u001b[36m::Bool\u001b[39m\n",
      "\u001b[90m└──\u001b[39m       goto #4 if not %16\n",
      "\u001b[90m3 ─\u001b[39m       goto #2\n",
      "\u001b[90m4 ┄\u001b[39m       return\n"
     ]
    }
   ],
   "source": [
    "@code_warntype walk2(100)"
   ]
  },
  {
   "cell_type": "code",
   "execution_count": 27,
   "metadata": {},
   "outputs": [
    {
     "name": "stdout",
     "output_type": "stream",
     "text": [
      "  0.890711 seconds (5 allocations: 176 bytes)\n"
     ]
    },
    {
     "data": {
      "text/plain": [
       "10280.3692"
      ]
     },
     "execution_count": 27,
     "metadata": {},
     "output_type": "execute_result"
    }
   ],
   "source": [
    "@time run(10_000, 10_000)"
   ]
  },
  {
   "cell_type": "code",
   "execution_count": 15,
   "metadata": {},
   "outputs": [
    {
     "name": "stdout",
     "output_type": "stream",
     "text": [
      "  2.529660 seconds (5 allocations: 176 bytes)\n"
     ]
    },
    {
     "data": {
      "text/plain": [
       "20070.74244"
      ]
     },
     "execution_count": 15,
     "metadata": {},
     "output_type": "execute_result"
    }
   ],
   "source": [
    "@time run(10_000, 100_000)"
   ]
  },
  {
   "cell_type": "code",
   "execution_count": 18,
   "metadata": {},
   "outputs": [
    {
     "data": {
      "text/plain": [
       "my_sum (generic function with 1 method)"
      ]
     },
     "execution_count": 18,
     "metadata": {},
     "output_type": "execute_result"
    }
   ],
   "source": [
    "function my_sum(N)\n",
    "    s = 0\n",
    "    for i in 1:N\n",
    "        s += i/2    # s = s + i/2\n",
    "    end\n",
    "    return s\n",
    "end"
   ]
  },
  {
   "cell_type": "code",
   "execution_count": 16,
   "metadata": {
    "scrolled": true
   },
   "outputs": [
    {
     "data": {
      "text/plain": [
       "CodeInfo(:(begin \n",
       "        nothing\n",
       "        x = 100 # line 4:\n",
       "        SSAValue(0) = (Main.colon)(1, T)\n",
       "        #temp# = (Base.start)(SSAValue(0))\n",
       "        6: \n",
       "        unless !((Base.done)(SSAValue(0), #temp#)) goto 21\n",
       "        SSAValue(1) = (Base.next)(SSAValue(0), #temp#)\n",
       "        i = (Core.getfield)(SSAValue(1), 1)\n",
       "        #temp# = (Core.getfield)(SSAValue(1), 2) # line 6:\n",
       "        unless (Main.rand)() < 0.5 goto 16 # line 7:\n",
       "        x = x + 1\n",
       "        goto 19\n",
       "        16:  # line 9:\n",
       "        x = x - 1\n",
       "        19: \n",
       "        goto 6\n",
       "        21:  # line 13:\n",
       "        return x\n",
       "    end))"
      ]
     },
     "execution_count": 16,
     "metadata": {},
     "output_type": "execute_result"
    }
   ],
   "source": [
    "@code_lowered walk(100)"
   ]
  },
  {
   "cell_type": "code",
   "execution_count": 17,
   "metadata": {},
   "outputs": [
    {
     "data": {
      "text/plain": [
       "CodeInfo(:(begin \n",
       "        x = 100 # line 4:\n",
       "        SSAValue(6) = (Base.select_value)((Base.sle_int)(1, T)::Bool, T, (Base.sub_int)(1, 1)::Int64)::Int64\n",
       "        #temp#@_4 = 1\n",
       "        5: \n",
       "        unless (Base.not_int)((#temp#@_4 === (Base.add_int)(SSAValue(6), 1)::Int64)::Bool)::Bool goto 55\n",
       "        SSAValue(7) = #temp#@_4\n",
       "        SSAValue(8) = (Base.add_int)(#temp#@_4, 1)::Int64\n",
       "        #temp#@_4 = SSAValue(8) # line 6:\n",
       "        $(Expr(:inbounds, false))\n",
       "        # meta: location random.jl rand 282\n",
       "        # meta: location random.jl rand 143\n",
       "        # meta: location random.jl reserve_1 132\n",
       "        unless ((Core.getfield)(Base.Random.GLOBAL_RNG, :idx)::Int64 === (Base.sext_int)(Int64, Base.Random.MTCacheLength)::Int64)::Bool goto 26\n",
       "        # meta: location random.jl gen_rand 128\n",
       "        SSAValue(3) = (Core.getfield)(Base.Random.GLOBAL_RNG, :state)::Base.dSFMT.DSFMT_state\n",
       "        SSAValue(2) = (Core.getfield)(Base.Random.GLOBAL_RNG, :vals)::Array{Float64,1}\n",
       "        $(Expr(:invoke, MethodInstance for dsfmt_fill_array_close1_open2!(::Base.dSFMT.DSFMT_state, ::Ptr{Float64}, ::Int64), :(Base.Random.dsfmt_fill_array_close1_open2!), SSAValue(3), :($(Expr(:foreigncall, :(:jl_array_ptr), Ptr{Float64}, svec(Any), SSAValue(2), 0))), :((Base.arraylen)((Core.getfield)(Base.Random.GLOBAL_RNG, :vals)::Array{Float64,1})::Int64))) # line 129:\n",
       "        # meta: location random.jl mt_setfull! 123\n",
       "        (Core.setfield!)(Base.Random.GLOBAL_RNG, :idx, 0)::Int64\n",
       "        # meta: pop location\n",
       "        # meta: pop location\n",
       "        goto 27\n",
       "        26: \n",
       "        27: \n",
       "        # meta: pop location\n",
       "        # meta: location random.jl rand_inbounds 139\n",
       "        # meta: location random.jl rand_inbounds 138\n",
       "        # meta: location random.jl mt_pop! 125\n",
       "        $(Expr(:inbounds, true))\n",
       "        SSAValue(4) = (Core.getfield)(Base.Random.GLOBAL_RNG, :vals)::Array{Float64,1}\n",
       "        SSAValue(5) = (Base.add_int)((Core.getfield)(Base.Random.GLOBAL_RNG, :idx)::Int64, 1)::Int64\n",
       "        (Core.setfield!)(Base.Random.GLOBAL_RNG, :idx, SSAValue(5))::Int64\n",
       "        #temp#@_7 = (Base.arrayref)(SSAValue(4), SSAValue(5))::Float64\n",
       "        goto 39\n",
       "        $(Expr(:inbounds, :pop))\n",
       "        39: \n",
       "        # meta: pop location\n",
       "        # meta: pop location\n",
       "        # meta: pop location\n",
       "        # meta: pop location\n",
       "        # meta: pop location\n",
       "        $(Expr(:inbounds, :pop))\n",
       "        unless (Base.lt_float)((Base.sub_float)(#temp#@_7, 1.0)::Float64, 0.5)::Bool goto 50 # line 7:\n",
       "        x = (Base.add_int)(x, 1)::Int64\n",
       "        goto 53\n",
       "        50:  # line 9:\n",
       "        x = (Base.sub_int)(x, 1)::Int64\n",
       "        53: \n",
       "        goto 5\n",
       "        55:  # line 13:\n",
       "        return x\n",
       "    end))=>Int64"
      ]
     },
     "execution_count": 17,
     "metadata": {},
     "output_type": "execute_result"
    }
   ],
   "source": [
    "@code_typed walk(100)"
   ]
  },
  {
   "cell_type": "code",
   "execution_count": 19,
   "metadata": {},
   "outputs": [
    {
     "data": {
      "text/plain": [
       "27.5"
      ]
     },
     "execution_count": 19,
     "metadata": {},
     "output_type": "execute_result"
    }
   ],
   "source": [
    "my_sum(10)"
   ]
  },
  {
   "cell_type": "code",
   "execution_count": 20,
   "metadata": {},
   "outputs": [
    {
     "name": "stdout",
     "output_type": "stream",
     "text": [
      "  0.000297 seconds (30.00 k allocations: 468.906 KiB)\n"
     ]
    },
    {
     "data": {
      "text/plain": [
       "2.50025e7"
      ]
     },
     "execution_count": 20,
     "metadata": {},
     "output_type": "execute_result"
    }
   ],
   "source": [
    "@time my_sum(10_000)"
   ]
  },
  {
   "cell_type": "code",
   "execution_count": 21,
   "metadata": {},
   "outputs": [
    {
     "name": "stdout",
     "output_type": "stream",
     "text": [
      "  0.000278 seconds (30.00 k allocations: 468.906 KiB)\n"
     ]
    },
    {
     "data": {
      "text/plain": [
       "2.50025e7"
      ]
     },
     "execution_count": 21,
     "metadata": {},
     "output_type": "execute_result"
    }
   ],
   "source": [
    "@time my_sum(10_000)"
   ]
  },
  {
   "cell_type": "code",
   "execution_count": 22,
   "metadata": {},
   "outputs": [
    {
     "data": {
      "text/plain": [
       "my_sum2 (generic function with 1 method)"
      ]
     },
     "execution_count": 22,
     "metadata": {},
     "output_type": "execute_result"
    }
   ],
   "source": [
    "function my_sum2(N)\n",
    "    s = 0.0\n",
    "    for i in 1:N\n",
    "        s += i/2    # s = s + i/2\n",
    "    end\n",
    "    return s\n",
    "end"
   ]
  },
  {
   "cell_type": "code",
   "execution_count": 23,
   "metadata": {},
   "outputs": [
    {
     "data": {
      "text/plain": [
       "27.5"
      ]
     },
     "execution_count": 23,
     "metadata": {},
     "output_type": "execute_result"
    }
   ],
   "source": [
    "my_sum2(10)"
   ]
  },
  {
   "cell_type": "code",
   "execution_count": 24,
   "metadata": {},
   "outputs": [
    {
     "name": "stdout",
     "output_type": "stream",
     "text": [
      "  0.000012 seconds (5 allocations: 176 bytes)\n"
     ]
    },
    {
     "data": {
      "text/plain": [
       "2.50025e7"
      ]
     },
     "execution_count": 24,
     "metadata": {},
     "output_type": "execute_result"
    }
   ],
   "source": [
    "@time my_sum2(10_000)"
   ]
  },
  {
   "cell_type": "code",
   "execution_count": 25,
   "metadata": {},
   "outputs": [
    {
     "name": "stdout",
     "output_type": "stream",
     "text": [
      "Variables:\n",
      "  #self# <optimized out>\n",
      "  N::Int64\n",
      "  i::Int64\n",
      "  #temp#@_4::Int64\n",
      "  s\u001b[1m\u001b[91m::Union{Float64, Int64}\u001b[39m\u001b[22m\n",
      "  #temp#@_6::Core.MethodInstance\n",
      "  #temp#@_7::Float64\n",
      "\n",
      "Body:\n",
      "  begin \n",
      "      s\u001b[1m\u001b[91m::Union{Float64, Int64}\u001b[39m\u001b[22m = 0 # line 3:\n",
      "      SSAValue(2) = (Base.select_value)((Base.sle_int)(1, N::Int64)::Bool, N::Int64, (Base.sub_int)(1, 1)::Int64)::Int64\n",
      "      #temp#@_4::Int64 = 1\n",
      "      5: \n",
      "      unless (Base.not_int)((#temp#@_4::Int64 === (Base.add_int)(SSAValue(2), 1)::Int64)::Bool)::Bool goto 30\n",
      "      SSAValue(3) = #temp#@_4::Int64\n",
      "      SSAValue(4) = (Base.add_int)(#temp#@_4::Int64, 1)::Int64\n",
      "      i::Int64 = SSAValue(3)\n",
      "      #temp#@_4::Int64 = SSAValue(4) # line 4:\n",
      "      unless (s\u001b[1m\u001b[91m::Union{Float64, Int64}\u001b[39m\u001b[22m isa Int64)::Bool goto 15\n",
      "      #temp#@_6::Core.MethodInstance = MethodInstance for +(::Int64, ::Float64)\n",
      "      goto 24\n",
      "      15: \n",
      "      unless (s\u001b[1m\u001b[91m::Union{Float64, Int64}\u001b[39m\u001b[22m isa Float64)::Bool goto 19\n",
      "      #temp#@_6::Core.MethodInstance = MethodInstance for +(::Float64, ::Float64)\n",
      "      goto 24\n",
      "      19: \n",
      "      goto 21\n",
      "      21: \n",
      "      #temp#@_7::Float64 = (s\u001b[1m\u001b[91m::Union{Float64, Int64}\u001b[39m\u001b[22m + (Base.div_float)((Base.sitofp)(Float64, i::Int64)::Float64, (Base.sitofp)(Float64, 2)::Float64)::Float64)::Float64\n",
      "      goto 26\n",
      "      24: \n",
      "      #temp#@_7::Float64 = $(Expr(:invoke, :(#temp#@_6), :(Main.+), :(s), :((Base.div_float)((Base.sitofp)(Float64, i)::Float64, (Base.sitofp)(Float64, 2)::Float64)::Float64)))\n",
      "      26: \n",
      "      s\u001b[1m\u001b[91m::Union{Float64, Int64}\u001b[39m\u001b[22m = #temp#@_7::Float64\n",
      "      28: \n",
      "      goto 5\n",
      "      30:  # line 6:\n",
      "      return s\u001b[1m\u001b[91m::Union{Float64, Int64}\u001b[39m\u001b[22m\n",
      "  end\u001b[1m\u001b[91m::Union{Float64, Int64}\u001b[39m\u001b[22m\n"
     ]
    }
   ],
   "source": [
    "@code_warntype my_sum(10)"
   ]
  },
  {
   "cell_type": "code",
   "execution_count": 26,
   "metadata": {},
   "outputs": [
    {
     "name": "stderr",
     "output_type": "stream",
     "text": [
      "\u001b[1m\u001b[36mINFO: \u001b[39m\u001b[22m\u001b[36mPrecompiling module ASTInterpreter2.\n",
      "\u001b[39m"
     ]
    }
   ],
   "source": [
    "using Traceur"
   ]
  },
  {
   "cell_type": "code",
   "execution_count": 27,
   "metadata": {},
   "outputs": [
    {
     "name": "stdout",
     "output_type": "stream",
     "text": [
      "\u001b[33m(my_sum)(::Int64) at In[18]:2\n",
      "\u001b[39m  s is assigned as Int64 at line 2\n",
      "  s is assigned as Float64 at line 4\n",
      "  dynamic dispatch to s + (Base.div_float)((Base.sitofp)(Float64, i), (Base.sitofp)(Float64, 2)) at line 4\n",
      "  returns Union{Float64, Int64}\n"
     ]
    },
    {
     "data": {
      "text/plain": [
       "27.5"
      ]
     },
     "execution_count": 27,
     "metadata": {},
     "output_type": "execute_result"
    }
   ],
   "source": [
    "@trace my_sum(10)"
   ]
  },
  {
   "cell_type": "code",
   "execution_count": 28,
   "metadata": {},
   "outputs": [
    {
     "data": {
      "text/plain": [
       "27.5"
      ]
     },
     "execution_count": 28,
     "metadata": {},
     "output_type": "execute_result"
    }
   ],
   "source": [
    "@trace my_sum2(10)"
   ]
  },
  {
   "cell_type": "code",
   "execution_count": 30,
   "metadata": {},
   "outputs": [
    {
     "name": "stdout",
     "output_type": "stream",
     "text": [
      "\n",
      "define double @julia_my_sum2_63327(i64) #0 !dbg !5 {\n",
      "top:\n",
      "  %1 = icmp slt i64 %0, 1\n",
      "  br i1 %1, label %L15, label %if.preheader\n",
      "\n",
      "if.preheader:                                     ; preds = %top\n",
      "  br label %if\n",
      "\n",
      "if:                                               ; preds = %if.preheader, %if\n",
      "  %s.03 = phi double [ %5, %if ], [ 0.000000e+00, %if.preheader ]\n",
      "  %\"#temp#.02\" = phi i64 [ %2, %if ], [ 1, %if.preheader ]\n",
      "  %2 = add i64 %\"#temp#.02\", 1\n",
      "  %3 = sitofp i64 %\"#temp#.02\" to double\n",
      "  %4 = fmul double %3, 5.000000e-01\n",
      "  %5 = fadd double %s.03, %4\n",
      "  %6 = icmp eq i64 %\"#temp#.02\", %0\n",
      "  br i1 %6, label %L15.loopexit, label %if\n",
      "\n",
      "L15.loopexit:                                     ; preds = %if\n",
      "  br label %L15\n",
      "\n",
      "L15:                                              ; preds = %L15.loopexit, %top\n",
      "  %s.0.lcssa = phi double [ 0.000000e+00, %top ], [ %5, %L15.loopexit ]\n",
      "  ret double %s.0.lcssa\n",
      "}\n"
     ]
    }
   ],
   "source": [
    "@code_llvm my_sum2(10)"
   ]
  },
  {
   "cell_type": "code",
   "execution_count": 32,
   "metadata": {},
   "outputs": [
    {
     "name": "stdout",
     "output_type": "stream",
     "text": [
      "\t.section\t__TEXT,__text,regular,pure_instructions\n",
      "Filename: In[22]\n",
      "\tpushq\t%rbp\n",
      "\tmovq\t%rsp, %rbp\n",
      "\txorpd\t%xmm0, %xmm0\n",
      "Source line: 3\n",
      "\ttestq\t%rdi, %rdi\n",
      "\tjle\tL72\n",
      "\txorpd\t%xmm0, %xmm0\n",
      "\txorl\t%eax, %eax\n",
      "\tmovabsq\t$4795772760, %rcx       ## imm = 0x11DD9AF58\n",
      "\tmovsd\t(%rcx), %xmm1           ## xmm1 = mem[0],zero\n",
      "\tnopw\t%cs:(%rax,%rax)\n",
      "L48:\n",
      "\tincq\t%rax\n",
      "Source line: 4\n",
      "\txorps\t%xmm2, %xmm2\n",
      "\tcvtsi2sdq\t%rax, %xmm2\n",
      "\tmulsd\t%xmm1, %xmm2\n",
      "\taddsd\t%xmm2, %xmm0\n",
      "Source line: 3\n",
      "\tcmpq\t%rax, %rdi\n",
      "\tjne\tL48\n",
      "Source line: 6\n",
      "L72:\n",
      "\tpopq\t%rbp\n",
      "\tretq\n",
      "\tnopw\t(%rax,%rax)\n"
     ]
    }
   ],
   "source": [
    "@code_native my_sum2(10)"
   ]
  },
  {
   "cell_type": "code",
   "execution_count": null,
   "metadata": {},
   "outputs": [],
   "source": []
  }
 ],
 "metadata": {
  "@webio": {
   "lastCommId": null,
   "lastKernelId": null
  },
  "kernelspec": {
   "display_name": "Julia 1.4.0",
   "language": "julia",
   "name": "julia-1.4"
  },
  "language_info": {
   "file_extension": ".jl",
   "mimetype": "application/julia",
   "name": "julia",
   "version": "1.4.0"
  }
 },
 "nbformat": 4,
 "nbformat_minor": 4
}
