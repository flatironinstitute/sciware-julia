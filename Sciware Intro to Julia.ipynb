{
 "cells": [
  {
   "cell_type": "markdown",
   "metadata": {},
   "source": [
    "# What is Julia?\n",
    "\n",
    "## \"A New Approach to Technical Computing\"\n",
    "\n",
    "- Less than 10 years old - project started in 2012\n",
    "- Growing use in scientific computing, data science, and machine learning\n",
    "- Users in industry, government, and academia, all over the world\n",
    "\n",
    "- One-sentence pitch: code as fast to write as Python, as fast to run as C++\n",
    "- Actually, Julia can often be faster than C++\n",
    "- Much easier to parallelize code across multiple cores, multiple nodes, or the GPU than Python\n",
    "- Code is readable, easy to share with students, collaborators, and the public\n",
    "- First class support for linear algebra and numerical computing\n",
    "- The community is friendly and full of expertise from many domains\n",
    "- Easy to learn if you already know Python\n",
    "- Very good support for testing, documenting, and benchmarking code\n",
    "- **Julia is one-based indexed, this isn't changing, love it or leave it.**"
   ]
  },
  {
   "cell_type": "markdown",
   "metadata": {},
   "source": [
    "## Success in a variety of fields\n",
    "\n",
    "### Physics\n",
    "- A group in CCQ, including Matt Fishman, Miles Stoudenmire, and me, has rewritten the C++ ITensors library in Julia and seen equivalent performance while adding features that would have been much harder to implement in C++ (like GPU support)\n",
    "- Yao.jl, a state of the art quantum circuit simulator\n",
    "- DiffEqPhysics\n",
    "\n",
    "\n",
    "### Astronomy\n",
    "- Celeste.jl\n",
    "- Eric Agol's group in exoplanet astronomy\n",
    "- https://github.com/marius311\n",
    "- https://github.com/JuliaAstro/Cosmology.jl\n",
    "- https://juliaastro.github.io/SkyCoords.jl/latest/#Performance-1\n",
    "- https://github.com/JuliaAstro/LombScargle.jl#performance\n",
    "- https://github.com/JuliaAstro/Photometry.jl\n",
    "\n",
    "### Biology\n",
    "- BioJulia packages\n",
    "- BioSequences.jl performance blogpost (https://biojulia.net/post/seq-lang/)\n",
    "- DiffEqBiological\n",
    "\n",
    "### Climate Science\n",
    "- Clima.jl\n",
    "- Oceananigans\n"
   ]
  },
  {
   "cell_type": "markdown",
   "metadata": {},
   "source": [
    "## Drawbacks of using Julia\n",
    "\n",
    "- Since the language is new, many people are unfamiliar with it and unwilling to switch\n",
    "- Less well developed community than Python has - no \"JuliaLadies\", for example, or regional JuliaCons\n",
    "- Onboarding and tutorial materials still lacking - a great opportunity for someone to get involved\n",
    "- Fewer mature packages than Python or C++\n",
    "- Tooling is less mature -- debuggers, IDEs, etc (this is improving quickly)"
   ]
  },
  {
   "cell_type": "markdown",
   "metadata": {},
   "source": [
    "## Just how fast is this language?\n",
    "\n",
    "We can look at two kinds of benchmarks: \"micro\", for small operations that are repeated many times (like `sqrt`) and \"macro\", for a complete simulation/data analysis.\n",
    "\n",
    "![micro-benchmarks](https://julialang.org/assets/benchmarks/benchmarks.svg)"
   ]
  },
  {
   "cell_type": "code",
   "execution_count": null,
   "metadata": {},
   "outputs": [],
   "source": []
  },
  {
   "cell_type": "markdown",
   "metadata": {},
   "source": [
    "## It's easy to use libraries written in other languages\n",
    "\n",
    "This way, you can use Julia for parts of the simulation you want to rewrite now, while still retaining the battle-tested library you've put many hours into developing.\n",
    "\n",
    "### From Python\n",
    "\n",
    "Julia has a very nice package called `PyCall` that lets you import Python libraries, use Python types, and call Python functions. Let's look at an example:"
   ]
  },
  {
   "cell_type": "code",
   "execution_count": null,
   "metadata": {},
   "outputs": [],
   "source": [
    "using PyCall, Conda\n",
    "Conda.add(\"geopy\", channel=\"conda-forge\")\n",
    "gp = pyimport(\"geopy\")\n",
    "using JLD, FileIO\n",
    "coords = jldopen(\"coord_df.jld\", \"r\") do file\n",
    "    read(file, \"coords\")\n",
    "end\n",
    "gcs = pyimport(\"geopy\").\"geocoders\"\n",
    "locator = gcs.Nominatim(user_agent=\"citibike\", timeout=nothing)\n",
    "gx = pyimport(\"geopy.extra.rate_limiter\")\n",
    "rl = gx.RateLimiter(locator.reverse, min_delay_seconds=1.1, max_retries=4)\n",
    "\n",
    "located = coords |> Tables.transform(Dict(:coord=>(x->rl(x)))) |> DataFrame"
   ]
  },
  {
   "cell_type": "markdown",
   "metadata": {},
   "source": [
    "### From C\n",
    "\n",
    "- Calling C from Julia (or Julia from C!) is natively supported, as is using C `struct`s, and all those good things. Julia and C can pass arrays back and forth, and it's simple to call any function in a shared object library from Julia."
   ]
  },
  {
   "cell_type": "code",
   "execution_count": null,
   "metadata": {},
   "outputs": [],
   "source": []
  },
  {
   "cell_type": "markdown",
   "metadata": {},
   "source": [
    "### From FORTRAN"
   ]
  },
  {
   "cell_type": "code",
   "execution_count": null,
   "metadata": {},
   "outputs": [],
   "source": []
  },
  {
   "cell_type": "markdown",
   "metadata": {},
   "source": [
    "## Showcases\n",
    "\n",
    "In this section we'll see some cool examples of things Julia and its packages are able to do:\n",
    "- Random walks\n",
    "- Interactive plotting\n",
    "  - Changing contour plot?\n",
    "- Multi-node job handling\n",
    "  - `ClusterManagers.jl`\n",
    "  - `WorkerGroup`\n",
    "- Parallelism\n",
    "  - Threads - show atomics, maybe a lock?\n",
    "  - `pmap` - 2D array example\n",
    "- Differential equations solving\n",
    "  - Neural ODE solver\n",
    "  - https://github.com/SciML/DiffEqTutorials.jl\n",
    "- Native Julia machine learning\n",
    "  - Flux\n",
    "  - Transformers\n",
    "- Handling big datasets\n",
    "  - Citibike"
   ]
  },
  {
   "cell_type": "markdown",
   "metadata": {},
   "source": [
    "## Resources to learn more\n",
    "\n",
    "- There is a Julia book!\n",
    "- Julia slack is very welcoming and we have dedicated channels for physics, astronomy, biology, and areas like HPC\n",
    "- We also have a discourse forum for people to ask questions and get help\n",
    "- The Julia youtube page has many talks from previous JuliaCons, which often include Jupyter notebook tutorials\n",
    "- Learn X in Y minutes - a basic introduction to Julia syntax"
   ]
  }
 ],
 "metadata": {
  "kernelspec": {
   "display_name": "Julia 1.5.0-DEV",
   "language": "julia",
   "name": "julia-1.5"
  },
  "language_info": {
   "file_extension": ".jl",
   "mimetype": "application/julia",
   "name": "julia",
   "version": "1.5.0"
  }
 },
 "nbformat": 4,
 "nbformat_minor": 2
}
