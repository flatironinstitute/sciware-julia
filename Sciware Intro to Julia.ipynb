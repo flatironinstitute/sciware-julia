{
 "cells": [
  {
   "cell_type": "code",
   "execution_count": null,
   "metadata": {},
   "outputs": [],
   "source": [
    "import Pkg; Pkg.activate(@__DIR__); Pkg.instantiate()\n",
    "Pkg.precompile()"
   ]
  },
  {
   "cell_type": "markdown",
   "metadata": {},
   "source": [
    "# Why are we here?"
   ]
  },
  {
   "cell_type": "markdown",
   "metadata": {},
   "source": [
    "- Who here has heard of Julia?\n",
    "- Who has used Julia before?\n",
    "- Who has contributed to Julia itself or a package?\n",
    "- Why are **you** interested in the language?"
   ]
  },
  {
   "cell_type": "markdown",
   "metadata": {},
   "source": [
    "# What is Julia?\n",
    "\n",
    "## \"A New Approach to Technical Computing\"\n",
    "\n",
    "- Less than 10 years old - project started in 2012\n",
    "- Growing use in scientific computing, data science, and machine learning\n",
    "- Users in industry, government, and academia, all over the world\n",
    "- **One-sentence pitch: code as fast to write as Python, as fast to run as C++**\n",
    "- Actually, Julia can often be faster than C++\n",
    "- Much easier to parallelize code across multiple cores, multiple nodes, or the GPU than Python\n",
    "- Code is readable, easy to share with students, collaborators, and the public\n",
    "- First class support for linear algebra, sparse matrices, and numerical computing\n",
    "- The community is friendly and full of expertise from many domains\n",
    "- Easy to learn if you already know Python\n",
    "- Easy to use existing Python/C code from Julia, so you don't have to rewrite everything\n",
    "- Very good support for testing, documenting, and benchmarking code\n",
    "- **Julia is one-based indexed, this isn't changing, love it or leave it.**"
   ]
  },
  {
   "cell_type": "markdown",
   "metadata": {},
   "source": [
    "## Julia is used in a variety of fields\n",
    "\n",
    "### Physics\n",
    "- A group in CCQ, including Matt Fishman, Miles Stoudenmire, and me, has rewritten the C++ ITensors library [in Julia](https://github.com/itensor/itensors.jl) and seen equivalent performance while adding features that would have been much harder to implement in C++ (like [GPU support](https://github.com/itensor/itensorsgpu.jl))\n",
    "- [Yao.jl](https://github.com/QuantumBFS/Yao.jl), a state of the art quantum circuit simulator\n",
    "\n",
    "### Astronomy\n",
    "- [Celeste.jl](https://github.com/jeff-regier/Celeste.jl), massively parallel stellar classification \n",
    "- [Eric Agol's](https://faculty.washington.edu/agol/) group in exoplanet astronomy uses Julia\n",
    "- [NextGen CMB lensing, with GPU support](https://github.com/marius311/CMBLensing.jl)\n",
    "- [SkyCoords.jl](https://juliaastro.github.io/SkyCoords.jl/latest/#Performance-1)\n",
    "- [LombScargle.jl](https://github.com/JuliaAstro/LombScargle.jl#performance)\n",
    "- [Photometry.jl](https://juliaastro.github.io/Photometry.jl/dev/)\n",
    "\n",
    "### Biology\n",
    "- [BioJulia packages](https://github.com/BioJulia/) for reading/writing datastructures for genomes and proteins\n",
    "- [BioSequences.jl performance blogpost](https://biojulia.net/post/seq-lang/)\n",
    "\n",
    "\n",
    "### Climate Science\n",
    "- [ClimateMachine.jl](https://github.com/CliMA/ClimateMachine.jl), using machine learning to create a next generation cimate model, all in Julia\n",
    "- [Oceananigans.jl](https://github.com/CliMA/Oceananigans.jl), with a cool video example [here](https://www.youtube.com/watch?v=kpUrxnKKMjI)\n"
   ]
  },
  {
   "cell_type": "markdown",
   "metadata": {},
   "source": [
    "## Drawbacks of using Julia\n",
    "\n",
    "- Since the language is new, many people are unfamiliar with it and unwilling to switch\n",
    "- Less well developed community than Python has - no \"JuliaLadies\", for example, or regional JuliaCons\n",
    "- Onboarding and tutorial materials still lacking - a great opportunity for someone to get involved\n",
    "- Fewer mature packages than Python or C++\n",
    "- Tooling is less mature -- debuggers, IDEs, etc (this is improving quickly)"
   ]
  },
  {
   "cell_type": "markdown",
   "metadata": {},
   "source": [
    "## Just how fast is this language?\n",
    "\n",
    "We can look at two kinds of benchmarks: \"micro\", for small operations that are repeated many times (like `sqrt`) and \"macro\", for a complete simulation/data analysis.\n",
    "\n",
    "![micro-benchmarks](https://julialang.org/assets/benchmarks/benchmarks.svg)"
   ]
  },
  {
   "cell_type": "markdown",
   "metadata": {},
   "source": [
    "## Some simple examples of Julia code\n",
    "\n",
    "- A `for` loop\n",
    "- Broadcasting\n",
    "- Defining custom types\n",
    "- Multiple dispatch\n",
    "- Type instability!"
   ]
  },
  {
   "cell_type": "code",
   "execution_count": null,
   "metadata": {},
   "outputs": [],
   "source": [
    "# There are lots of ways to iterate through a collection\n",
    "\n",
    "A = rand(512)\n",
    "B = similar(A)\n",
    "@show eltype(A)\n",
    "@show typeof(B)\n",
    "for i in 1:length(A)\n",
    "    B[i] = sin(A[i])\n",
    "end\n",
    "\n",
    "for (i, aa) in enumerate(A) # probably recognize this from Python\n",
    "    B[i] = sin(aa)\n",
    "end\n",
    "\n",
    "for i in 2:2:length(A) # let's slice!\n",
    "    B[i] = cos(A[i])\n",
    "end\n",
    "\n",
    "Ar = reshape(A, (256, 2))\n",
    "Br = reshape(B, (2, 256))\n",
    "\n",
    "# can still use linear indices\n",
    "B[:] = A[:]\n",
    "\n",
    "# we can fill B using a \"generator\" (like a list comprehension)\n",
    "B = [sin(a) for a in A]\n",
    "\n",
    "# or we can even use broadcasting\n",
    "B .= sin.(A)"
   ]
  },
  {
   "cell_type": "markdown",
   "metadata": {},
   "source": [
    "### More on broadcasting and memory\n",
    "\n",
    "Because Julia is memory-managed, it's better if we can avoid allocations in our code, especially in tight inner loops. We can use the basic `@time` macro to see if some code we wrote is allocating."
   ]
  },
  {
   "cell_type": "code",
   "execution_count": null,
   "metadata": {
    "scrolled": true
   },
   "outputs": [],
   "source": [
    "@time B = copy(A) # allocating\n",
    "\n",
    "@time B = sin.(A)\n",
    "\n",
    "@time B .= sin.(A)"
   ]
  },
  {
   "cell_type": "markdown",
   "metadata": {},
   "source": [
    "Broadcasting is a nice way to minimize the number of allocations in code, and Julia can *automatically* broadcast functions over arrays and custom types. Let's look at some examples and introduce Julia's type system."
   ]
  },
  {
   "cell_type": "code",
   "execution_count": null,
   "metadata": {},
   "outputs": [],
   "source": [
    "# define a custom *abstract* type\n",
    "abstract type AbstractPoint{T, N} end\n",
    "\n",
    "mutable struct Point{N, T} <: AbstractPoint{N, T}\n",
    "    coords::NTuple{N,T} # a Tuple of N elements of type T\n",
    "end\n",
    "\n",
    "# let's construct some Points\n",
    "\n",
    "my_2d_point = Point{2, Int}(1, 2)\n",
    "\n",
    "my_3d_point = Point{3, Float64}(1.0, 2.0, 3.0)"
   ]
  },
  {
   "cell_type": "markdown",
   "metadata": {},
   "source": [
    "The above didn't work, because we need to define a constructor for `Point`:"
   ]
  },
  {
   "cell_type": "code",
   "execution_count": null,
   "metadata": {},
   "outputs": [],
   "source": [
    "mutable struct Point{N, T} <: AbstractPoint{N, T}\n",
    "    coords::NTuple{N,T} # a Tuple of N elements of type T\n",
    "    function Point{N, T}(coords::Vararg{T, N}) where {N, T}\n",
    "        new(coords)\n",
    "    end\n",
    "end\n",
    "\n",
    "# let's construct some Points\n",
    "\n",
    "my_2d_point = Point{2, Int}(1, 2)\n",
    "\n",
    "my_3d_point = Point{3, Float64}(1.0, 2.0, 3.0)\n"
   ]
  },
  {
   "cell_type": "code",
   "execution_count": null,
   "metadata": {},
   "outputs": [],
   "source": [
    "@show my_2d_point isa Point\n",
    "@show my_2d_point isa Point{2}\n",
    "@show my_2d_point isa Point{Int}\n",
    "@show my_2d_point isa Point{3, Int}"
   ]
  },
  {
   "cell_type": "markdown",
   "metadata": {},
   "source": [
    "What if we don't know the coordinate type in advance?"
   ]
  },
  {
   "cell_type": "code",
   "execution_count": null,
   "metadata": {},
   "outputs": [],
   "source": [
    "try\n",
    "    my_2d_point = Point(1, 2)\n",
    "catch e\n",
    "    @warn e\n",
    "end\n",
    "\n",
    "Point(coords::Vararg{T, N}) where {N, T} = Point{N, T}(coords...)\n",
    "\n",
    "my_2d_point = Point(1, 2)"
   ]
  },
  {
   "cell_type": "markdown",
   "metadata": {},
   "source": [
    "### Why is this useful?\n",
    "\n",
    "We can write custom methods for our types!"
   ]
  },
  {
   "cell_type": "code",
   "execution_count": null,
   "metadata": {},
   "outputs": [],
   "source": [
    "function angle(point_a, point_b)\n",
    "    θ_a = atan(point_a.coords[2]/point_a.coords[1])\n",
    "    θ_b = atan(point_b.coords[2]/point_b.coords[1])\n",
    "    θ_b - θ_a\n",
    "end\n",
    "\n",
    "# let's write some tests for this!\n",
    "using Test\n",
    "y_axis = Point(0, 1)\n",
    "x_axis = Point(1, 0)\n",
    "@test angle(x_axis, y_axis) == π/2\n",
    "@test angle(y_axis, x_axis) == -π/2"
   ]
  },
  {
   "cell_type": "markdown",
   "metadata": {},
   "source": [
    "This *seems* to work ... but what if I have a 3d point? Can't I define an angle between two 3-d rays? (What do the astronomers think about this idea?). In fact, we know that:\n",
    "\n",
    "`a * b = |a||b|cosθ`"
   ]
  },
  {
   "cell_type": "code",
   "execution_count": null,
   "metadata": {},
   "outputs": [],
   "source": [
    "function angle(point_a, point_b)\n",
    "    inner_prod = sum(point_a.coords .* point_b.coords)\n",
    "    mag_a = hypot(point_a.coords...)\n",
    "    mag_b = hypot(point_b.coords...)\n",
    "    acos(inner_prod/(mag_a*mag_b))\n",
    "end\n",
    "y_axis = Point(0, 1, 0)\n",
    "x_axis = Point(1, 0, 0)\n",
    "z_axis = Point(0, 0, 1)\n",
    "@test angle(x_axis, y_axis) == π/2\n",
    "@test angle(z_axis, y_axis) == π/2\n",
    "@test angle(y_axis, x_axis) == π/2\n",
    "\n",
    "# and let's run some timings"
   ]
  },
  {
   "cell_type": "markdown",
   "metadata": {},
   "source": [
    "This method shouldn't work if we pass points with different dimensionality - one way to deal with this would be:"
   ]
  },
  {
   "cell_type": "code",
   "execution_count": null,
   "metadata": {},
   "outputs": [],
   "source": [
    "Base.ndims(p::Point{N, T}) where {N, T} = N\n",
    "using LinearAlgebra\n",
    "function angle_notype(point_a, point_b)\n",
    "    ndims(point_a) == ndims(point_b) || throw(DimensionMismatch(\"A and B have different dimensionality\"))\n",
    "    inner_prod = dot(point_a.coords, point_b.coords)\n",
    "    mag_a = hypot(point_a.coords...)\n",
    "    mag_b = hypot(point_b.coords...)\n",
    "    acos(inner_prod/(mag_a*mag_b))\n",
    "end\n",
    "y_axis = Point(0, 1, 0)\n",
    "x_axis = Point(1, 0, 0)\n",
    "z_axis = Point(0, 0, 1)\n",
    "@test angle(x_axis, y_axis) == π/2\n",
    "@test angle(z_axis, y_axis) == π/2\n",
    "@test angle(y_axis, x_axis) == π/2\n",
    "\n",
    "@test_throws DimensionMismatch angle(Point(1, 2), Point(1, 2, 3))"
   ]
  },
  {
   "cell_type": "code",
   "execution_count": null,
   "metadata": {},
   "outputs": [],
   "source": [
    "using LinearAlgebra\n",
    "function angle_typed(point_a::Point{N, T}, point_b::Point{N, T}) where {N, T}\n",
    "    inner_prod = dot(point_a.coords, point_b.coords)\n",
    "    mag_a = hypot(point_a.coords...)\n",
    "    mag_b = hypot(point_b.coords...)\n",
    "    acos(inner_prod/(mag_a*mag_b))\n",
    "end\n",
    "y_axis = Point(0, 1, 0)\n",
    "x_axis = Point(1, 0, 0)\n",
    "z_axis = Point(0, 0, 1)\n",
    "@test angle_typed(x_axis, y_axis) == π/2\n",
    "@test angle_typed(z_axis, y_axis) == π/2\n",
    "@test angle_typed(y_axis, x_axis) == π/2\n",
    "@test_throws MethodError angle_typed(Point(1, 2), Point(1, 2, 3))\n",
    "\n",
    "as = [Point(a...) for a in collect(zip(rand(512), rand(512)))]\n",
    "bs = [Point(b...) for b in collect(zip(rand(512), rand(512)))]\n",
    "\n",
    "@time angle_notype.(as, bs)\n",
    "@time angle_typed.(as, bs)"
   ]
  },
  {
   "cell_type": "markdown",
   "metadata": {},
   "source": [
    "## Multiple dispatch: an example with our points"
   ]
  },
  {
   "cell_type": "code",
   "execution_count": null,
   "metadata": {},
   "outputs": [],
   "source": [
    "@show as isa Vector\n",
    "\n",
    "# define a new \"scalar multiplication\" method for Point\n",
    "\n",
    "Base.:*(x::Number, a::Point) = Point((x .* a.coords)...)\n",
    "Base.:*(a::Point, x::Number) = Point((x .* a.coords)...)\n",
    "Base.:+(a::Point{N, T}, b::Point{N, T}) where {N, T} = Point((a.coords .+ b.coords)...)\n",
    "\n",
    "cs = [Point(c...) for c in collect(zip(rand(512), rand(512)))]\n",
    "cns = rand(512)\n",
    "\n",
    "ds = cns .* cs\n",
    "\n",
    "es = Point.(rand(12, 12))\n",
    "fs = rand(12, 12)\n",
    "\n",
    "es * fs"
   ]
  },
  {
   "cell_type": "code",
   "execution_count": null,
   "metadata": {},
   "outputs": [],
   "source": [
    "# We need to define what the zero of this type is\n",
    "Base.zero(::Type{Point{N, T}}) where {N, T} = Point(ntuple(i->zero(T), N)...)\n",
    "Base.zero(p::Point{N, T}) where {N, T}      = Point(ntuple(i->zero(T), N)...)\n",
    "\n",
    "es * fs"
   ]
  },
  {
   "cell_type": "code",
   "execution_count": null,
   "metadata": {},
   "outputs": [],
   "source": [
    "Base.:/(a::Point, x::Number) = Point((inv(x) .* a.coords)...)\n",
    "es ./ 2.0"
   ]
  },
  {
   "cell_type": "markdown",
   "metadata": {},
   "source": [
    "## Be careful about type instabilities!"
   ]
  },
  {
   "cell_type": "code",
   "execution_count": null,
   "metadata": {},
   "outputs": [],
   "source": [
    "using BenchmarkTools\n",
    "\n",
    "A64 = rand(Float64, 100_000)\n",
    "A32 = rand(Float32, 100_000)\n",
    "A8  = rand(Int8, 100_000)\n",
    "\n",
    "function my_sin(A::AbstractArray{T}) where {T}\n",
    "    s = 0\n",
    "    for (ai, a) in enumerate(A)\n",
    "        s += 1\n",
    "        s /= sin(a)\n",
    "    end\n",
    "    return s\n",
    "end\n",
    "\n",
    "function my_sin2(A::AbstractArray{T}) where {T}\n",
    "    s = zero(T)\n",
    "    for (ai, a) in enumerate(A)\n",
    "        s += one(T)\n",
    "        s /= sin(a)\n",
    "    end\n",
    "    return s\n",
    "end\n",
    "\n",
    "@btime my_sin($A64)\n",
    "@btime my_sin2($A64)\n",
    "\n",
    "@btime my_sin($A32)\n",
    "@btime my_sin2($A32)\n",
    "\n",
    "@btime my_sin($A8)\n",
    "@btime my_sin2($A8)\n",
    "\n",
    "# how can we detect what's causing the difference?"
   ]
  },
  {
   "cell_type": "code",
   "execution_count": null,
   "metadata": {},
   "outputs": [],
   "source": [
    "@code_warntype my_sin(A32)"
   ]
  },
  {
   "cell_type": "code",
   "execution_count": null,
   "metadata": {},
   "outputs": [],
   "source": [
    "@code_warntype my_sin2(A32)"
   ]
  },
  {
   "cell_type": "markdown",
   "metadata": {},
   "source": [
    "## It's easy to use libraries written in other languages\n",
    "\n",
    "This way, you can use Julia for parts of the simulation you want to rewrite now, while still retaining the battle-tested library you've put many hours into developing.\n",
    "\n",
    "### From Python\n",
    "\n",
    "Julia has a very nice package called `PyCall` that lets you import Python libraries, use Python types, and call Python functions. Let's look at an example:"
   ]
  },
  {
   "cell_type": "code",
   "execution_count": null,
   "metadata": {},
   "outputs": [],
   "source": [
    "using PyCall, Conda\n",
    "Conda.add(\"geopy\", channel=\"conda-forge\")\n",
    "gp = pyimport(\"geopy\")\n",
    "gcs = pyimport(\"geopy\").\"geocoders\"\n",
    "locator = gcs.Nominatim(user_agent=\"SF\", timeout=nothing)"
   ]
  },
  {
   "cell_type": "code",
   "execution_count": null,
   "metadata": {},
   "outputs": [],
   "source": [
    "FI = locator.geocode(\"162 5th Avenue NYC\")\n",
    "@show FI.address, FI.longitude, FI.latitude\n",
    "SF = locator.geocode(\"160 5th Avenue NYC\")\n",
    "@show SF.address, SF.longitude, SF.latitude\n",
    "\n",
    "dist = pyimport(\"geopy.distance\")\n",
    "distance = dist.geodesic((FI.longitude, FI.latitude), (SF.longitude, SF.latitude))"
   ]
  },
  {
   "cell_type": "markdown",
   "metadata": {},
   "source": [
    "### From C\n",
    "\n",
    "- Calling C from Julia (or Julia from C!) is natively supported, as is using C `struct`s, and all those good things. Julia and C can pass arrays back and forth, and it's simple to call any function in a shared object library from Julia."
   ]
  },
  {
   "cell_type": "code",
   "execution_count": null,
   "metadata": {},
   "outputs": [],
   "source": [
    "path = ccall(:getenv, Cstring, (Cstring,), \"SHELL\")\n",
    "unsafe_string(path)"
   ]
  },
  {
   "cell_type": "markdown",
   "metadata": {},
   "source": [
    "## Showcases\n",
    "\n",
    "In this section we'll see some cool examples of things Julia and its packages are able to do:\n",
    "- Plotting and differential equation solving - look in the `Animated plots.ipynb` notebook\n",
    "- Parallelism - single node (`Single node parallelism.ipynb`) and multi-node (`distributed_computing.jl`)\n",
    "- Native Julia machine learning - (`Machine learning in Julia.ipynb`)"
   ]
  },
  {
   "cell_type": "markdown",
   "metadata": {},
   "source": [
    "## Resources to learn more\n",
    "\n",
    "- There is a Julia [book](https://www.amazon.com/Julia-High-Performance-Avik-Sengupta/dp/178829811X)!\n",
    "- Julia [Slack](https://julialang.org/slack/) is very welcoming and we have dedicated channels for physics, astronomy, biology, and areas like HPC\n",
    "- We also have a [discourse forum](https://discourse.julialang.org/) for people to ask questions and get help\n",
    "- The Julia [youtube page](https://www.youtube.com/user/JuliaLanguage) has many talks from previous JuliaCons, which often include Jupyter notebook tutorials\n",
    "- [Learn X in Y minutes](https://learnxinyminutes.com/docs/julia/) - a basic introduction to Julia syntax"
   ]
  }
 ],
 "metadata": {
  "@webio": {
   "lastCommId": null,
   "lastKernelId": null
  },
  "kernelspec": {
   "display_name": "Julia 1.4.0",
   "language": "julia",
   "name": "julia-1.4"
  },
  "language_info": {
   "file_extension": ".jl",
   "mimetype": "application/julia",
   "name": "julia",
   "version": "1.4.0"
  }
 },
 "nbformat": 4,
 "nbformat_minor": 4
}
