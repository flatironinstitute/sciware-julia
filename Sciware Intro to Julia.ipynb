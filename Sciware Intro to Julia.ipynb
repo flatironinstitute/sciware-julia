{
 "cells": [
  {
   "cell_type": "markdown",
   "metadata": {},
   "source": [
    "# What is Julia?\n",
    "\n",
    "## \"A New Approach to Technical Computing\"\n",
    "\n",
    "- Less than 10 years old - project started in 2012\n",
    "- Growing use in scientific computing, data science, and machine learning\n",
    "- Users in industry, government, and academia, all over the world\n",
    "\n",
    "- One-sentence pitch: code as fast to write as Python, as fast to run as C++\n",
    "- Actually, Julia can often be faster than C++\n",
    "- Much easier to parallelize code across multiple cores, multiple nodes, or the GPU than Python\n",
    "- Code is readable, easy to share with students, collaborators, and the public\n",
    "- First class support for linear algebra and numerical computing\n",
    "- The community is friendly and full of expertise from many domains\n",
    "- Easy to learn if you already know Python\n",
    "- Very good support for testing, documenting, and benchmarking code\n",
    "- **Julia is one-based indexed, this isn't changing, love it or leave it.**"
   ]
  },
  {
   "cell_type": "markdown",
   "metadata": {},
   "source": [
    "## Julia is used in a variety of fields\n",
    "\n",
    "### Physics\n",
    "- A group in CCQ, including Matt Fishman, Miles Stoudenmire, and me, has rewritten the C++ ITensors library in Julia and seen equivalent performance while adding features that would have been much harder to implement in C++ (like GPU support)\n",
    "- Yao.jl, a state of the art quantum circuit simulator\n",
    "- DiffEqPhysics\n",
    "\n",
    "\n",
    "### Astronomy\n",
    "- Celeste.jl\n",
    "- Eric Agol's group in exoplanet astronomy\n",
    "- https://github.com/marius311\n",
    "- https://github.com/JuliaAstro/Cosmology.jl\n",
    "- https://juliaastro.github.io/SkyCoords.jl/latest/#Performance-1\n",
    "- https://github.com/JuliaAstro/LombScargle.jl#performance\n",
    "- https://github.com/JuliaAstro/Photometry.jl\n",
    "\n",
    "### Biology\n",
    "- BioJulia packages\n",
    "- BioSequences.jl performance blogpost (https://biojulia.net/post/seq-lang/)\n",
    "- DiffEqBiological\n",
    "\n",
    "### Climate Science\n",
    "- Clima.jl\n",
    "- Oceananigans\n"
   ]
  },
  {
   "cell_type": "markdown",
   "metadata": {},
   "source": [
    "## Drawbacks of using Julia\n",
    "\n",
    "- Since the language is new, many people are unfamiliar with it and unwilling to switch\n",
    "- Less well developed community than Python has - no \"JuliaLadies\", for example, or regional JuliaCons\n",
    "- Onboarding and tutorial materials still lacking - a great opportunity for someone to get involved\n",
    "- Fewer mature packages than Python or C++\n",
    "- Tooling is less mature -- debuggers, IDEs, etc (this is improving quickly)"
   ]
  },
  {
   "cell_type": "markdown",
   "metadata": {},
   "source": [
    "## Just how fast is this language?\n",
    "\n",
    "We can look at two kinds of benchmarks: \"micro\", for small operations that are repeated many times (like `sqrt`) and \"macro\", for a complete simulation/data analysis.\n",
    "\n",
    "![micro-benchmarks](https://julialang.org/assets/benchmarks/benchmarks.svg)"
   ]
  },
  {
   "cell_type": "markdown",
   "metadata": {},
   "source": [
    "## Some simple examples of Julia code\n",
    "\n",
    "- A `for` loop\n",
    "- Broadcasting\n",
    "- Defining custom types\n",
    "- Multiple dispatch\n",
    "- Type instability!"
   ]
  },
  {
   "cell_type": "code",
   "execution_count": 1,
   "metadata": {},
   "outputs": [
    {
     "name": "stdout",
     "output_type": "stream",
     "text": [
      "eltype(A) = Float64\n",
      "typeof(B) = Array{Float64,1}\n"
     ]
    },
    {
     "data": {
      "text/plain": [
       "512-element Array{Float64,1}:\n",
       " 0.8225715825963349\n",
       " 0.479279124544149\n",
       " 0.7369790489376848\n",
       " 0.04424066072168864\n",
       " 0.359034435164221\n",
       " 0.540565357663336\n",
       " 0.35429971136774074\n",
       " 0.6503484133912293\n",
       " 0.627763802552588\n",
       " 0.2980414085099836\n",
       " 0.32971548857104127\n",
       " 0.3845157061744127\n",
       " 0.1453505036682908\n",
       " ⋮\n",
       " 0.2979773267075211\n",
       " 0.7358774273037118\n",
       " 0.10509494464785275\n",
       " 0.08280422371918808\n",
       " 0.16093486947169752\n",
       " 0.11557731098201743\n",
       " 0.8047861429069003\n",
       " 0.7691141267000563\n",
       " 0.8250530173416858\n",
       " 0.36109722006657907\n",
       " 0.1965099645821133\n",
       " 0.7118489365789462"
      ]
     },
     "execution_count": 1,
     "metadata": {},
     "output_type": "execute_result"
    }
   ],
   "source": [
    "# There are lots of ways to iterate through a collection\n",
    "\n",
    "A = rand(512)\n",
    "B = similar(A)\n",
    "@show eltype(A)\n",
    "@show typeof(B)\n",
    "for i in 1:length(A)\n",
    "    B[i] = sin(A[i])\n",
    "end\n",
    "\n",
    "for (i, aa) in enumerate(A) # probably recognize this from Python\n",
    "    B[i] = sin(aa)\n",
    "end\n",
    "\n",
    "for i in 2:2:length(A) # let's slice!\n",
    "    B[i] = cos(A[i])\n",
    "end\n",
    "\n",
    "Ar = reshape(A, (256, 2))\n",
    "Br = reshape(B, (2, 256))\n",
    "\n",
    "# can still use linear indices\n",
    "B[:] = A[:]\n",
    "\n",
    "# we can fill B using a \"generator\" (like a list comprehension)\n",
    "B = [sin(a) for a in A]\n",
    "\n",
    "# or we can even use broadcasting\n",
    "B .= sin.(A)"
   ]
  },
  {
   "cell_type": "markdown",
   "metadata": {},
   "source": [
    "### More on broadcasting and memory\n",
    "\n",
    "Because Julia is memory-managed, it's better if we can avoid allocations in our code, especially in tight inner loops. We can use the basic `@time` macro to see if some code we wrote is allocating."
   ]
  },
  {
   "cell_type": "code",
   "execution_count": 2,
   "metadata": {
    "scrolled": true
   },
   "outputs": [
    {
     "name": "stdout",
     "output_type": "stream",
     "text": [
      "  0.001068 seconds (28 allocations: 6.047 KiB)\n",
      "  0.012362 seconds (37.72 k allocations: 1.826 MiB)\n",
      "  0.000011 seconds (2 allocations: 32 bytes)\n"
     ]
    },
    {
     "data": {
      "text/plain": [
       "512-element Array{Float64,1}:\n",
       " 0.8225715825963349\n",
       " 0.479279124544149\n",
       " 0.7369790489376848\n",
       " 0.04424066072168864\n",
       " 0.359034435164221\n",
       " 0.540565357663336\n",
       " 0.35429971136774074\n",
       " 0.6503484133912293\n",
       " 0.627763802552588\n",
       " 0.2980414085099836\n",
       " 0.32971548857104127\n",
       " 0.3845157061744127\n",
       " 0.1453505036682908\n",
       " ⋮\n",
       " 0.2979773267075211\n",
       " 0.7358774273037118\n",
       " 0.10509494464785275\n",
       " 0.08280422371918808\n",
       " 0.16093486947169752\n",
       " 0.11557731098201743\n",
       " 0.8047861429069003\n",
       " 0.7691141267000563\n",
       " 0.8250530173416858\n",
       " 0.36109722006657907\n",
       " 0.1965099645821133\n",
       " 0.7118489365789462"
      ]
     },
     "execution_count": 2,
     "metadata": {},
     "output_type": "execute_result"
    }
   ],
   "source": [
    "@time B = copy(A) # allocating\n",
    "\n",
    "@time B = sin.(A)\n",
    "\n",
    "@time B .= sin.(A)"
   ]
  },
  {
   "cell_type": "markdown",
   "metadata": {},
   "source": [
    "Broadcasting is a nice way to minimize the number of allocations in code, and Julia can *automatically* broadcast functions over arrays and custom types. Let's look at some examples and introduce Julia's type system."
   ]
  },
  {
   "cell_type": "code",
   "execution_count": 3,
   "metadata": {},
   "outputs": [
    {
     "ename": "MethodError",
     "evalue": "MethodError: no method matching BPoint{2,Int64}(::Int64, ::Int64)\nClosest candidates are:\n  BPoint{2,Int64}(::Any) where {N, T} at In[3]:5",
     "output_type": "error",
     "traceback": [
      "MethodError: no method matching BPoint{2,Int64}(::Int64, ::Int64)\nClosest candidates are:\n  BPoint{2,Int64}(::Any) where {N, T} at In[3]:5",
      "",
      "Stacktrace:",
      " [1] top-level scope at In[3]:7"
     ]
    }
   ],
   "source": [
    "# define a custom *abstract* type\n",
    "abstract type AbstractPoint{T, N} end\n",
    "\n",
    "mutable struct BPoint{N, T} <: AbstractPoint{N, T}\n",
    "    coords::NTuple{N,T} # a Tuple of N elements of type T\n",
    "end\n",
    "\n",
    "# let's construct some BPoints\n",
    "\n",
    "my_2d_point = BPoint{2, Int}(1, 2)\n",
    "\n",
    "my_3d_point = BPoint{3, Float64}(1.0, 2.0, 3.0)"
   ]
  },
  {
   "cell_type": "markdown",
   "metadata": {},
   "source": [
    "The above didn't work, because we need to define a constructor for `Point`:"
   ]
  },
  {
   "cell_type": "code",
   "execution_count": 4,
   "metadata": {},
   "outputs": [
    {
     "data": {
      "text/plain": [
       "Point{3,Float64}((1.0, 2.0, 3.0))"
      ]
     },
     "execution_count": 4,
     "metadata": {},
     "output_type": "execute_result"
    }
   ],
   "source": [
    "mutable struct Point{N, T} <: AbstractPoint{N, T}\n",
    "    coords::NTuple{N,T} # a Tuple of N elements of type T\n",
    "    function Point{N, T}(coords::Vararg{T, N}) where {N, T}\n",
    "        new(coords)\n",
    "    end\n",
    "end\n",
    "\n",
    "# let's construct some Points\n",
    "\n",
    "my_2d_point = Point{2, Int}(1, 2)\n",
    "\n",
    "my_3d_point = Point{3, Float64}(1.0, 2.0, 3.0)\n"
   ]
  },
  {
   "cell_type": "code",
   "execution_count": 5,
   "metadata": {},
   "outputs": [
    {
     "name": "stdout",
     "output_type": "stream",
     "text": [
      "my_2d_point isa Point = true\n",
      "my_2d_point isa Point{2} = true\n",
      "my_2d_point isa Point{Int} = false\n",
      "my_2d_point isa Point{3, Int} = false\n"
     ]
    },
    {
     "data": {
      "text/plain": [
       "false"
      ]
     },
     "execution_count": 5,
     "metadata": {},
     "output_type": "execute_result"
    }
   ],
   "source": [
    "@show my_2d_point isa Point\n",
    "@show my_2d_point isa Point{2}\n",
    "@show my_2d_point isa Point{Int}\n",
    "@show my_2d_point isa Point{3, Int}"
   ]
  },
  {
   "cell_type": "markdown",
   "metadata": {},
   "source": [
    "What if we don't know the coordinate type in advance?"
   ]
  },
  {
   "cell_type": "code",
   "execution_count": 6,
   "metadata": {},
   "outputs": [
    {
     "name": "stderr",
     "output_type": "stream",
     "text": [
      "┌ Warning: MethodError(Point, (1, 2), 0x0000000000006bc3)\n",
      "└ @ Main In[6]:4\n"
     ]
    },
    {
     "data": {
      "text/plain": [
       "Point{2,Int64}((1, 2))"
      ]
     },
     "execution_count": 6,
     "metadata": {},
     "output_type": "execute_result"
    }
   ],
   "source": [
    "try\n",
    "    my_2d_point = Point(1, 2)\n",
    "catch e\n",
    "    @warn e\n",
    "end\n",
    "\n",
    "Point(coords::Vararg{T, N}) where {N, T} = Point{N, T}(coords...)\n",
    "\n",
    "my_2d_point = Point(1, 2)"
   ]
  },
  {
   "cell_type": "markdown",
   "metadata": {},
   "source": [
    "### Why is this useful?\n",
    "\n",
    "We can write custom methods for our types!"
   ]
  },
  {
   "cell_type": "code",
   "execution_count": 7,
   "metadata": {},
   "outputs": [
    {
     "data": {
      "text/plain": [
       "\u001b[32m\u001b[1mTest Passed\u001b[22m\u001b[39m"
      ]
     },
     "execution_count": 7,
     "metadata": {},
     "output_type": "execute_result"
    }
   ],
   "source": [
    "function angle(point_a, point_b)\n",
    "    θ_a = atan(point_a.coords[2]/point_a.coords[1])\n",
    "    θ_b = atan(point_b.coords[2]/point_b.coords[1])\n",
    "    θ_b - θ_a\n",
    "end\n",
    "\n",
    "# let's write some tests for this!\n",
    "using Test\n",
    "y_axis = Point(0, 1)\n",
    "x_axis = Point(1, 0)\n",
    "@test angle(x_axis, y_axis) == π/2\n",
    "@test angle(y_axis, x_axis) == -π/2"
   ]
  },
  {
   "cell_type": "markdown",
   "metadata": {},
   "source": [
    "This *seems* to work ... but what if I have a 3d point? Can't I define an angle between two 3-d rays? (What do the astronomers think about this idea?). In fact, we know that:\n",
    "\n",
    "`a * b = |a||b|cosθ`"
   ]
  },
  {
   "cell_type": "code",
   "execution_count": 8,
   "metadata": {},
   "outputs": [
    {
     "data": {
      "text/plain": [
       "\u001b[32m\u001b[1mTest Passed\u001b[22m\u001b[39m"
      ]
     },
     "execution_count": 8,
     "metadata": {},
     "output_type": "execute_result"
    }
   ],
   "source": [
    "function angle(point_a, point_b)\n",
    "    inner_prod = sum(point_a.coords .* point_b.coords)\n",
    "    mag_a = hypot(point_a.coords...)\n",
    "    mag_b = hypot(point_b.coords...)\n",
    "    acos(inner_prod/(mag_a*mag_b))\n",
    "end\n",
    "y_axis = Point(0, 1, 0)\n",
    "x_axis = Point(1, 0, 0)\n",
    "z_axis = Point(0, 0, 1)\n",
    "@test angle(x_axis, y_axis) == π/2\n",
    "@test angle(z_axis, y_axis) == π/2\n",
    "@test angle(y_axis, x_axis) == π/2\n",
    "\n",
    "# and let's run some timings"
   ]
  },
  {
   "cell_type": "markdown",
   "metadata": {},
   "source": [
    "This method shouldn't work if we pass points with different dimensionality - one way to deal with this would be:"
   ]
  },
  {
   "cell_type": "code",
   "execution_count": 9,
   "metadata": {},
   "outputs": [
    {
     "data": {
      "text/plain": [
       "\u001b[32m\u001b[1mTest Passed\u001b[22m\u001b[39m\n",
       "      Thrown: DimensionMismatch"
      ]
     },
     "execution_count": 9,
     "metadata": {},
     "output_type": "execute_result"
    }
   ],
   "source": [
    "Base.ndims(p::Point{N, T}) where {N, T} = N\n",
    "using LinearAlgebra\n",
    "function angle_notype(point_a, point_b)\n",
    "    ndims(point_a) == ndims(point_b) || throw(DimensionMismatch(\"A and B have different dimensionality\"))\n",
    "    inner_prod = dot(point_a.coords, point_b.coords)\n",
    "    mag_a = hypot(point_a.coords...)\n",
    "    mag_b = hypot(point_b.coords...)\n",
    "    acos(inner_prod/(mag_a*mag_b))\n",
    "end\n",
    "y_axis = Point(0, 1, 0)\n",
    "x_axis = Point(1, 0, 0)\n",
    "z_axis = Point(0, 0, 1)\n",
    "@test angle(x_axis, y_axis) == π/2\n",
    "@test angle(z_axis, y_axis) == π/2\n",
    "@test angle(y_axis, x_axis) == π/2\n",
    "\n",
    "@test_throws DimensionMismatch angle(Point(1, 2), Point(1, 2, 3))"
   ]
  },
  {
   "cell_type": "code",
   "execution_count": 10,
   "metadata": {},
   "outputs": [
    {
     "name": "stdout",
     "output_type": "stream",
     "text": [
      "  0.088700 seconds (285.72 k allocations: 14.192 MiB)\n",
      "  0.045539 seconds (142.23 k allocations: 6.833 MiB)\n"
     ]
    },
    {
     "data": {
      "text/plain": [
       "512-element Array{Float64,1}:\n",
       " 0.24621051401695263\n",
       " 0.35135114147039553\n",
       " 1.0254872278322142\n",
       " 0.49568426422207235\n",
       " 0.0037863315297453266\n",
       " 0.1851987227050544\n",
       " 0.39121530613781835\n",
       " 0.02639813355058079\n",
       " 0.015332570125683032\n",
       " 0.7104044759305768\n",
       " 0.4546063244767796\n",
       " 0.47332233426295606\n",
       " 0.4259838014796647\n",
       " ⋮\n",
       " 0.5542326963203039\n",
       " 0.2983918290253858\n",
       " 0.6868174311841276\n",
       " 0.6225687473176721\n",
       " 0.3538490265861798\n",
       " 0.6850302217658225\n",
       " 1.2172107629192448\n",
       " 0.8490943775052646\n",
       " 1.1141425365714168\n",
       " 0.3766414808701807\n",
       " 0.3174457002450253\n",
       " 0.46791915114526866"
      ]
     },
     "execution_count": 10,
     "metadata": {},
     "output_type": "execute_result"
    }
   ],
   "source": [
    "using LinearAlgebra\n",
    "function angle_typed(point_a::Point{N, T}, point_b::Point{N, T}) where {N, T}\n",
    "    inner_prod = dot(point_a.coords, point_b.coords)\n",
    "    mag_a = hypot(point_a.coords...)\n",
    "    mag_b = hypot(point_b.coords...)\n",
    "    acos(inner_prod/(mag_a*mag_b))\n",
    "end\n",
    "y_axis = Point(0, 1, 0)\n",
    "x_axis = Point(1, 0, 0)\n",
    "z_axis = Point(0, 0, 1)\n",
    "@test angle_typed(x_axis, y_axis) == π/2\n",
    "@test angle_typed(z_axis, y_axis) == π/2\n",
    "@test angle_typed(y_axis, x_axis) == π/2\n",
    "@test_throws MethodError angle_typed(Point(1, 2), Point(1, 2, 3))\n",
    "\n",
    "as = [Point(a...) for a in collect(zip(rand(512), rand(512)))]\n",
    "bs = [Point(b...) for b in collect(zip(rand(512), rand(512)))]\n",
    "\n",
    "@time angle_notype.(as, bs)\n",
    "@time angle_typed.(as, bs)"
   ]
  },
  {
   "cell_type": "markdown",
   "metadata": {},
   "source": [
    "## Multiple dispatch: an example with our points"
   ]
  },
  {
   "cell_type": "code",
   "execution_count": 11,
   "metadata": {},
   "outputs": [
    {
     "name": "stdout",
     "output_type": "stream",
     "text": [
      "as isa Vector = true\n"
     ]
    },
    {
     "ename": "MethodError",
     "evalue": "MethodError: no method matching zero(::Point{1,Float64})\nClosest candidates are:\n  zero(!Matched::Type{LibGit2.GitHash}) at /Users/khyatt/julia/master/usr/share/julia/stdlib/v1.5/LibGit2/src/oid.jl:220\n  zero(!Matched::Type{Pkg.Resolve.VersionWeight}) at /Users/khyatt/julia/master/usr/share/julia/stdlib/v1.5/Pkg/src/Resolve/versionweights.jl:15\n  zero(!Matched::Type{Missing}) at missing.jl:103\n  ...",
     "output_type": "error",
     "traceback": [
      "MethodError: no method matching zero(::Point{1,Float64})\nClosest candidates are:\n  zero(!Matched::Type{LibGit2.GitHash}) at /Users/khyatt/julia/master/usr/share/julia/stdlib/v1.5/LibGit2/src/oid.jl:220\n  zero(!Matched::Type{Pkg.Resolve.VersionWeight}) at /Users/khyatt/julia/master/usr/share/julia/stdlib/v1.5/Pkg/src/Resolve/versionweights.jl:15\n  zero(!Matched::Type{Missing}) at missing.jl:103\n  ...",
      "",
      "Stacktrace:",
      " [1] _generic_matmatmul!(::Array{Point{1,Float64},2}, ::Char, ::Char, ::Array{Point{1,Float64},2}, ::Array{Float64,2}, ::LinearAlgebra.MulAddMul{true,true,Bool,Bool}) at /Users/khyatt/julia/master/usr/share/julia/stdlib/v1.5/LinearAlgebra/src/matmul.jl:814",
      " [2] generic_matmatmul!(::Array{Point{1,Float64},2}, ::Char, ::Char, ::Array{Point{1,Float64},2}, ::Array{Float64,2}, ::LinearAlgebra.MulAddMul{true,true,Bool,Bool}) at /Users/khyatt/julia/master/usr/share/julia/stdlib/v1.5/LinearAlgebra/src/matmul.jl:724",
      " [3] mul! at /Users/khyatt/julia/master/usr/share/julia/stdlib/v1.5/LinearAlgebra/src/matmul.jl:235 [inlined]",
      " [4] mul! at /Users/khyatt/julia/master/usr/share/julia/stdlib/v1.5/LinearAlgebra/src/matmul.jl:208 [inlined]",
      " [5] *(::Array{Point{1,Float64},2}, ::Array{Float64,2}) at /Users/khyatt/julia/master/usr/share/julia/stdlib/v1.5/LinearAlgebra/src/matmul.jl:153",
      " [6] top-level scope at In[11]:16"
     ]
    }
   ],
   "source": [
    "@show as isa Vector\n",
    "\n",
    "# define a new \"scalar multiplication\" method for Point\n",
    "\n",
    "Base.:*(x::Number, a::Point) = Point((x .* a.coords)...)\n",
    "Base.:*(a::Point, x::Number) = Point((x .* a.coords)...)\n",
    "Base.:+(a::Point{N, T}, b::Point{N, T}) where {N, T} = Point((a.coords .+ b.coords)...)\n",
    "\n",
    "cs = [Point(c...) for c in collect(zip(rand(512), rand(512)))]\n",
    "cns = rand(512)\n",
    "\n",
    "ds = cns .* cs\n",
    "\n",
    "es = Point.(rand(12, 12))\n",
    "fs = rand(12, 12)\n",
    "\n",
    "es * fs"
   ]
  },
  {
   "cell_type": "code",
   "execution_count": 13,
   "metadata": {},
   "outputs": [
    {
     "data": {
      "text/plain": [
       "12×12 Array{Point{1,Float64},2}:\n",
       " Point{1,Float64}((2.71569,))  …  Point{1,Float64}((2.22517,))\n",
       " Point{1,Float64}((2.50973,))     Point{1,Float64}((1.90612,))\n",
       " Point{1,Float64}((2.92649,))     Point{1,Float64}((2.34365,))\n",
       " Point{1,Float64}((4.60811,))     Point{1,Float64}((3.4951,))\n",
       " Point{1,Float64}((3.42013,))     Point{1,Float64}((2.49952,))\n",
       " Point{1,Float64}((2.68227,))  …  Point{1,Float64}((2.04708,))\n",
       " Point{1,Float64}((4.03045,))     Point{1,Float64}((3.92484,))\n",
       " Point{1,Float64}((2.31827,))     Point{1,Float64}((2.17938,))\n",
       " Point{1,Float64}((3.52559,))     Point{1,Float64}((2.09282,))\n",
       " Point{1,Float64}((2.69568,))     Point{1,Float64}((2.50669,))\n",
       " Point{1,Float64}((2.96938,))  …  Point{1,Float64}((2.83372,))\n",
       " Point{1,Float64}((3.94182,))     Point{1,Float64}((3.38907,))"
      ]
     },
     "execution_count": 13,
     "metadata": {},
     "output_type": "execute_result"
    }
   ],
   "source": [
    "# We need to define what the zero of this type is\n",
    "Base.zero(::Type{Point{N, T}}) where {N, T} = Point(ntuple(i->zero(T), N)...)\n",
    "Base.zero(p::Point{N, T}) where {N, T}      = Point(ntuple(i->zero(T), N)...)\n",
    "\n",
    "es * fs"
   ]
  },
  {
   "cell_type": "code",
   "execution_count": 15,
   "metadata": {},
   "outputs": [
    {
     "data": {
      "text/plain": [
       "12×12 Array{Point{1,Float64},2}:\n",
       " Point{1,Float64}((0.142765,))   …  Point{1,Float64}((0.0597799,))\n",
       " Point{1,Float64}((0.0052819,))     Point{1,Float64}((0.096078,))\n",
       " Point{1,Float64}((0.0965424,))     Point{1,Float64}((0.399058,))\n",
       " Point{1,Float64}((0.0676617,))     Point{1,Float64}((0.443464,))\n",
       " Point{1,Float64}((0.110137,))      Point{1,Float64}((0.424328,))\n",
       " Point{1,Float64}((0.0804803,))  …  Point{1,Float64}((0.401861,))\n",
       " Point{1,Float64}((0.440812,))      Point{1,Float64}((0.310611,))\n",
       " Point{1,Float64}((0.424045,))      Point{1,Float64}((8.70159e-6,))\n",
       " Point{1,Float64}((0.147607,))      Point{1,Float64}((0.479501,))\n",
       " Point{1,Float64}((0.194041,))      Point{1,Float64}((0.298807,))\n",
       " Point{1,Float64}((0.41732,))    …  Point{1,Float64}((0.0385975,))\n",
       " Point{1,Float64}((0.0319677,))     Point{1,Float64}((0.490056,))"
      ]
     },
     "execution_count": 15,
     "metadata": {},
     "output_type": "execute_result"
    }
   ],
   "source": [
    "Base.:/(a::Point, x::Number) = Point((inv(x) .* a.coords)...)\n",
    "es ./ 2.0"
   ]
  },
  {
   "cell_type": "markdown",
   "metadata": {},
   "source": [
    "## It's easy to use libraries written in other languages\n",
    "\n",
    "This way, you can use Julia for parts of the simulation you want to rewrite now, while still retaining the battle-tested library you've put many hours into developing.\n",
    "\n",
    "### From Python\n",
    "\n",
    "Julia has a very nice package called `PyCall` that lets you import Python libraries, use Python types, and call Python functions. Let's look at an example:"
   ]
  },
  {
   "cell_type": "code",
   "execution_count": null,
   "metadata": {},
   "outputs": [],
   "source": [
    "using PyCall, Conda\n",
    "Conda.add(\"geopy\", channel=\"conda-forge\")\n",
    "gp = pyimport(\"geopy\")\n",
    "using JLD, FileIO\n",
    "coords = jldopen(\"coord_df.jld\", \"r\") do file\n",
    "    read(file, \"coords\")\n",
    "end\n",
    "gcs = pyimport(\"geopy\").\"geocoders\"\n",
    "locator = gcs.Nominatim(user_agent=\"citibike\", timeout=nothing)\n",
    "gx = pyimport(\"geopy.extra.rate_limiter\")\n",
    "rl = gx.RateLimiter(locator.reverse, min_delay_seconds=1.1, max_retries=4)\n",
    "\n",
    "located = coords |> Tables.transform(Dict(:coord=>(x->rl(x)))) |> DataFrame"
   ]
  },
  {
   "cell_type": "markdown",
   "metadata": {},
   "source": [
    "### From C\n",
    "\n",
    "- Calling C from Julia (or Julia from C!) is natively supported, as is using C `struct`s, and all those good things. Julia and C can pass arrays back and forth, and it's simple to call any function in a shared object library from Julia."
   ]
  },
  {
   "cell_type": "code",
   "execution_count": null,
   "metadata": {},
   "outputs": [],
   "source": []
  },
  {
   "cell_type": "markdown",
   "metadata": {},
   "source": [
    "### From FORTRAN"
   ]
  },
  {
   "cell_type": "code",
   "execution_count": null,
   "metadata": {},
   "outputs": [],
   "source": []
  },
  {
   "cell_type": "markdown",
   "metadata": {},
   "source": [
    "## Showcases\n",
    "\n",
    "In this section we'll see some cool examples of things Julia and its packages are able to do:\n",
    "- Random walks - +\n",
    "- Benchmark tools and testsets - \n",
    "- Profiling -\n",
    "- Interactive plotting - +\n",
    "- Multi-node job handling\n",
    "  - `ClusterManagers.jl` - +\n",
    "  - `WorkerGroup`\n",
    "- Parallelism\n",
    "  - Threads - show atomics, maybe a lock?\n",
    "  - `pmap` - 2D array example - +\n",
    "- Differential equations solving (Schroedinger equation)\n",
    "  - https://github.com/SciML/DiffEqTutorials.jl\n",
    "- Native Julia machine learning - +\n",
    "  - Flux\n",
    "  - GeometricFlux\n",
    "  - Transformers"
   ]
  },
  {
   "cell_type": "markdown",
   "metadata": {},
   "source": [
    "## Resources to learn more\n",
    "\n",
    "- There is a Julia book!\n",
    "- Julia slack is very welcoming and we have dedicated channels for physics, astronomy, biology, and areas like HPC\n",
    "- We also have a discourse forum for people to ask questions and get help\n",
    "- The Julia youtube page has many talks from previous JuliaCons, which often include Jupyter notebook tutorials\n",
    "- Learn X in Y minutes - a basic introduction to Julia syntax"
   ]
  }
 ],
 "metadata": {
  "@webio": {
   "lastCommId": null,
   "lastKernelId": null
  },
  "kernelspec": {
   "display_name": "Julia 1.5.0-DEV",
   "language": "julia",
   "name": "julia-1.5"
  },
  "language_info": {
   "file_extension": ".jl",
   "mimetype": "application/julia",
   "name": "julia",
   "version": "1.5.0"
  }
 },
 "nbformat": 4,
 "nbformat_minor": 2
}
